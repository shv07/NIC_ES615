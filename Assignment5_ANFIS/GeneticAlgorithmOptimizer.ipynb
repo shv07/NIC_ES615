{
 "cells": [
  {
   "cell_type": "code",
   "execution_count": 11,
   "metadata": {},
   "outputs": [],
   "source": [
    "import numpy as np\n"
   ]
  },
  {
   "cell_type": "code",
   "execution_count": 12,
   "metadata": {},
   "outputs": [],
   "source": [
    "def flipBit(s, prob):\n",
    "    assert s in [\"0\", \"1\"]\n",
    "    assert prob in [0,1]\n",
    "    if prob==1:\n",
    "        return '1' if s=='0' else '0'\n",
    "    return s\n",
    "\n",
    "def applyIndividualBounds(x, lower = -1, upper = 1):\n",
    "    #x (float)\n",
    "    x = max(x,lower)\n",
    "    x = min(x, upper)\n",
    "    return x\n",
    "\n",
    "def applyBounds(x):\n",
    "    new = []\n",
    "    for i in range(len(x)):\n",
    "        new.append(applyIndividualBounds(x[i]))\n",
    "    return new\n",
    "\n",
    "def float2binary(parent, nvar, ndec=2, chromosome_size=11):\n",
    "    \"\"\"\n",
    "    Converts each of the nvar values of the parent to binary of size \"chromosome_size\" and concatenates them\n",
    "    to 1 string\n",
    "    Args:\n",
    "        parent (list) - list of nvar floating values\n",
    "        nvar (int) - no. of variables, the size of parent\n",
    "        ndec (int) - max no. of decimal points of each values in parent\n",
    "        chromosome_size (int) - no. of bits to which each value in parent is converted\n",
    "    Return:\n",
    "        parent_bin (str) - binary no. string made by concatenating each value's binary equivalent\n",
    "    \"\"\"\n",
    "    parent_bin = \"\"\n",
    "    for i in range(nvar):\n",
    "        val = int(parent[i]*10**ndec) #converting from float to int, later will be converted back\n",
    "        if val<0:\n",
    "            val=-1*val\n",
    "        binary = bin(val)[2:]\n",
    "        binary = \"0\"*(chromosome_size-len(binary)) + binary\n",
    "        parent_bin = parent_bin + binary\n",
    "    return parent_bin\n",
    "def binary2float(child, nvar, ndec=2, chromosome_size=11):\n",
    "    \"\"\"\n",
    "    Converts the child string to nvar float values by reversin the effect of float2binary\n",
    "    Args:\n",
    "        child (str) - binary no. string made by concatenating each value's binary equivalent,\n",
    "                     size - nvar*chromosome_size\n",
    "        nvar (int) - no. of variables whose binary are concatenated in child\n",
    "        ndec (int) - max no. of decimal points of each values \n",
    "        chromosome_size (int) - no. of bits of each value in child\n",
    "    Return:\n",
    "        child (list) - list of nvar floating values\n",
    "    \"\"\"\n",
    "    child_float = []\n",
    "    \n",
    "    for i in range(nvar):\n",
    "        val = child[i*chromosome_size:(i+1)*chromosome_size]\n",
    "        val = int(val, 2)/10**ndec    #converting to float, reversing the effect of binary conversion\n",
    "        child_float.append(val)\n",
    "        \n",
    "    return child_float\n",
    "\n",
    "def tournament_selection(npop, cost, population):\n",
    "    \"\"\"\n",
    "    Selects a parent for mating besed on touranment selection\n",
    "    Args:\n",
    "        npop (int)- population size\n",
    "        rank (dict) - a dictionary containing the ranks of each member from current population\n",
    "    \"\"\"\n",
    "    parent1 = np.random.randint(0, npop)\n",
    "    parent2 = np.random.randint(0, npop)\n",
    "    \n",
    "    p1 = population[parent1]\n",
    "    p2 = population[parent2]\n",
    "    return (parent1 if cost(p1)<cost(2) else parent2)\n",
    "\n",
    "def crossover(parent1, parent2, nvar=2, ndec=2, prob = 0.95, chromosome_size = 11):\n",
    "    \"\"\"\n",
    "    Perfroms two point genetic crossover and returns the new children\n",
    "    NOTE - Does not apply bouds to new child here!\n",
    "    \n",
    "    Args:\n",
    "        parent1, parent2 (list) - parents each containing nvar values\n",
    "        ndec (int) - max no. of decimal points in values contained in parents\n",
    "        prob (float) - the probabilty for doing crossover\n",
    "        chromosome_size (int)- the size of the binary equivalent of largest no. in var_size \n",
    "    Return:\n",
    "        child1, child2 (list)\n",
    "    \"\"\"\n",
    "    parent1_ = float2binary(parent1, nvar, ndec, chromosome_size)\n",
    "    parent2_ = float2binary(parent2, nvar, ndec, chromosome_size)\n",
    "    \n",
    "    crossover_point1 = np.random.randint(2,chromosome_size*nvar//2)\n",
    "    crossover_point2 = np.random.randint(1+chromosome_size*nvar//2, chromosome_size*nvar-1)\n",
    "    if np.random.rand()<=prob:\n",
    "        child1 = parent1_[:crossover_point1] + parent2_[crossover_point1:crossover_point2] + parent1_[crossover_point2:]\n",
    "        child2 = parent2_[:crossover_point1] + parent1_[crossover_point1:crossover_point2] + parent2_[crossover_point2:]\n",
    "        \n",
    "        child1 = binary2float(child1, nvar, ndec, chromosome_size)\n",
    "        child2 = binary2float(child2, nvar, ndec, chromosome_size)\n",
    "        return child1, child2\n",
    "    return parent1, parent2\n",
    "\n",
    "def mutation(child, nvar = 2, ndec = 2, chromosome_size = 11, mutRate = 0.005):\n",
    "    \"\"\"\n",
    "    Performs mutation on the child by converting it to binary and flipping each bit on prob = mutRate\n",
    "    NOTE - Does not do applyBounds\n",
    "    \"\"\"\n",
    "    childBin = float2binary(child, nvar, ndec, chromosome_size)\n",
    "    flip = np.int32(np.random.randn(chromosome_size*nvar)<=mutRate)\n",
    "    mutChild = ''\n",
    "    \n",
    "    for i in range(chromosome_size*nvar):\n",
    "        mutChild = mutChild + flipBit(childBin[i], flip[i])\n",
    "    mutChild = binary2float(mutChild, nvar, ndec, chromosome_size)*np.random.choice(-1,1)\n",
    "    return mutChild"
   ]
  },
  {
   "cell_type": "code",
   "execution_count": 3,
   "metadata": {},
   "outputs": [
    {
     "ename": "SyntaxError",
     "evalue": "invalid syntax (<ipython-input-3-5602ba847c5b>, line 25)",
     "output_type": "error",
     "traceback": [
      "\u001b[0;36m  File \u001b[0;32m\"<ipython-input-3-5602ba847c5b>\"\u001b[0;36m, line \u001b[0;32m25\u001b[0m\n\u001b[0;31m    c1, c2 = crossover(population[p1], population[p2],prob=crossoverProb, nvar = )\u001b[0m\n\u001b[0m                                                                                 ^\u001b[0m\n\u001b[0;31mSyntaxError\u001b[0m\u001b[0;31m:\u001b[0m invalid syntax\n"
     ]
    }
   ],
   "source": [
    "def Optimizer(evalcost, paramInitialiser, param2list, npop = 10, niter = 200,\n",
    "              crossoverProb = 0.95, mutationRate = 0.5, nvar = 2):\n",
    "    \"\"\"\n",
    "    Genetic algorithm optimiser\n",
    "    cost - cost function as a function of params (list)\n",
    "    params - list\n",
    "    pramInitialiser - function\n",
    "    param2list - function\n",
    "    \"\"\"\n",
    "    population = []\n",
    "    params = None\n",
    "    #initialize_params\n",
    "    for i in range(npop):\n",
    "        params = paramInitialiser()\n",
    "        params = param2list(params)\n",
    "        population.append(params)\n",
    "    nvar = len(params)\n",
    "    \n",
    "    for i in range(niter):        \n",
    "        for j in range(npop//2):\n",
    "            #selection\n",
    "            p1 = tournament_selection(npop, evalcost, population)\n",
    "            p2 = tournament_selection(npop, evalcost, population)\n",
    "            #crossover & mutaion\n",
    "            c1, c2 = crossover(population[p1], population[p2],prob=crossoverProb, nvar = )\n",
    "            c1, c2 = mutation(c1, mutRate= mutationRate), mutation(c2, mutRate=mutationRate)\n",
    "            #applying bounds\n",
    "            c1, c2 = applyBounds(c1), applyBounds(c2)\n",
    "            #adding childrent to the population\n",
    "            population.append(c1)\n",
    "            population.append(c2)\n",
    "        population = sorted(population, key=lambda x:evalcost(x))\n",
    "        population = population[:npop]\n",
    "    return population[0]"
   ]
  },
  {
   "cell_type": "code",
   "execution_count": null,
   "metadata": {},
   "outputs": [],
   "source": [
    "a = [1.6,2.6,3.4,1,2]\n",
    "a_ = float2binary(a, nvar=4)\n",
    "a, a_"
   ]
  },
  {
   "cell_type": "code",
   "execution_count": null,
   "metadata": {},
   "outputs": [],
   "source": [
    "mutation(a, nvar = 4)"
   ]
  },
  {
   "cell_type": "code",
   "execution_count": 4,
   "metadata": {},
   "outputs": [
    {
     "data": {
      "text/plain": [
       "'010001100110001110011100001111011'"
      ]
     },
     "execution_count": 4,
     "metadata": {},
     "output_type": "execute_result"
    }
   ],
   "source": [
    "float2binary([5.63,2.32,1.23], nvar=3)"
   ]
  },
  {
   "cell_type": "code",
   "execution_count": 7,
   "metadata": {},
   "outputs": [
    {
     "data": {
      "text/plain": [
       "[5.63, 2.31, 1.23]"
      ]
     },
     "execution_count": 7,
     "metadata": {},
     "output_type": "execute_result"
    }
   ],
   "source": [
    "binary2float('010001100110001110011100001111011', nvar=3)"
   ]
  },
  {
   "cell_type": "code",
   "execution_count": 9,
   "metadata": {},
   "outputs": [
    {
     "data": {
      "text/plain": [
       "array([1., 1., 1.])"
      ]
     },
     "execution_count": 9,
     "metadata": {},
     "output_type": "execute_result"
    }
   ],
   "source": [
    "np.mean(np.ones((5,3)), axis=0)"
   ]
  },
  {
   "cell_type": "code",
   "execution_count": 31,
   "metadata": {},
   "outputs": [
    {
     "name": "stderr",
     "output_type": "stream",
     "text": [
      "/home/shivji/anaconda3/lib/python3.7/site-packages/ipykernel_launcher.py:25: UserWarning: Matplotlib is currently using agg, which is a non-GUI backend, so cannot show the figure.\n"
     ]
    },
    {
     "data": {
      "image/png": "[encoded data removed]",
      "text/plain": [
       "<Figure size 432x288 with 1 Axes>"
      ]
     },
     "metadata": {
      "needs_background": "light"
     },
     "output_type": "display_data"
    }
   ],
   "source": [
    "\n",
    "import numpy as np\n",
    "from matplotlib import pyplot as plt\n",
    "from matplotlib.animation import FuncAnimation\n",
    "plt.style.use('seaborn-pastel')\n",
    "\n",
    "\n",
    "fig = plt.figure()\n",
    "ax = plt.axes(xlim=(0, 4), ylim=(-2, 2))\n",
    "line, = ax.plot([], [], lw=3)\n",
    "\n",
    "def init():\n",
    "    line.set_data([], [])\n",
    "    return line,\n",
    "def animate(i):\n",
    "    x = np.linspace(0, 4, 1000)\n",
    "    y = np.sin(2 * np.pi * (x - 0.01 * i))\n",
    "    line.set_data(x, y)\n",
    "    return line,\n",
    "\n",
    "anim = FuncAnimation(fig, animate, init_func=init,\n",
    "                               frames=200, interval=20, blit=True)\n",
    "\n",
    "\n",
    "anim.save('sine_wave.gif', writer='imagemagick')\n"
   ]
  },
  {
   "cell_type": "code",
   "execution_count": null,
   "metadata": {},
   "outputs": [],
   "source": []
  },
  {
   "cell_type": "code",
   "execution_count": 12,
   "metadata": {},
   "outputs": [
    {
     "data": {
      "text/plain": [
       "[1, 2, 3, 1, 2, 3]"
      ]
     },
     "execution_count": 12,
     "metadata": {},
     "output_type": "execute_result"
    }
   ],
   "source": []
  },
  {
   "cell_type": "code",
   "execution_count": 23,
   "metadata": {},
   "outputs": [
    {
     "data": {
      "text/plain": [
       "13"
      ]
     },
     "execution_count": 23,
     "metadata": {},
     "output_type": "execute_result"
    }
   ],
   "source": [
    "len(bin(2000))"
   ]
  },
  {
   "cell_type": "code",
   "execution_count": null,
   "metadata": {},
   "outputs": [],
   "source": []
  }
 ],
 "metadata": {
  "kernelspec": {
   "display_name": "Python 3",
   "language": "python",
   "name": "python3"
  },
  "language_info": {
   "codemirror_mode": {
    "name": "ipython",
    "version": 3
   },
   "file_extension": ".py",
   "mimetype": "text/x-python",
   "name": "python",
   "nbconvert_exporter": "python",
   "pygments_lexer": "ipython3",
   "version": "3.7.7"
  }
 },
 "nbformat": 4,
 "nbformat_minor": 4
}
