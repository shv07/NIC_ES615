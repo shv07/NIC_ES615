{
 "cells": [
  {
   "cell_type": "markdown",
   "metadata": {},
   "source": [
    "## Implementation of NSGA II algorithm\n",
    "#### Minimizing the lateral and total surface area of a right circular cone subject the constraint r in [0, 10], h in [0, 20] cm and V>200 cm3 \n",
    "#### Shivji Bhagat - 16110149 - shivji.bhagat@iitgn.ac.in\n",
    "#### References:\n",
    "1. https://www.youtube.com/watch?v=Yb82W2Bolqc\n",
    "2. https://core.ac.uk/download/pdf/30341871.pdf"
   ]
  },
  {
   "cell_type": "code",
   "execution_count": 1,
   "metadata": {},
   "outputs": [],
   "source": [
    "import numpy as np\n",
    "import matplotlib.pyplot as plt"
   ]
  },
  {
   "cell_type": "code",
   "execution_count": 2,
   "metadata": {},
   "outputs": [],
   "source": [
    "###utility functions#####\n",
    "#function 1\n",
    "def lateralSA(r,h, pi = 3.143):\n",
    "    l = (r**2+h**2)**0.5\n",
    "    return pi*r*l\n",
    "\n",
    "#funciton 2\n",
    "def totalSA(r,h, pi = 3.143):\n",
    "    return lateralSA(r,h) + pi*r**2\n",
    "\n",
    "#constraint_function\n",
    "def volume(r, h, pi = 3.143):\n",
    "    return (1/3)*pi*h*r**2\n",
    "\n",
    "def flipBit(s, prob):\n",
    "    assert s in [\"0\", \"1\"]\n",
    "    assert prob in [0,1]\n",
    "    if prob==1:\n",
    "        return '1' if s=='0' else '0'\n",
    "    return s\n",
    "def applyBounds(x, lower = [0,0], upper = [10,20]):\n",
    "    #x (float)\n",
    "    a1 = max(x[0],lower[0])\n",
    "    a1 = min(x[0], upper[0])\n",
    "    a2 = max(x[1],lower[1])\n",
    "    a2 = min(x[1], upper[1])\n",
    "    y = np.array([a1,a2])\n",
    "    y = np.around(y,2)\n",
    "    return y\n",
    "def applyConstraint(population, limit = 200):\n",
    "    \"\"\"\n",
    "    \"\"\"\n",
    "    if (volume(population[:,0],population[:,1])>200).all():\n",
    "        return population\n",
    "    newPop = []\n",
    "    for x in population:\n",
    "        r,h = x\n",
    "        if volume(r,h)>limit:\n",
    "            newPop.append(x)\n",
    "        else:\n",
    "            rnew = np.around(np.random.uniform(5, 10), 2)\n",
    "            hnew = np.around(np.random.uniform(10, 20), 2)\n",
    "            newPop.append([rnew, hnew])\n",
    "    return np.array(newPop)\n",
    "\n",
    "convert2objective = lambda x:np.around(np.array([lateralSA(x[:,0],x[:,1]), totalSA(x[:,0],x[:,1])]).T,2)"
   ]
  },
  {
   "cell_type": "code",
   "execution_count": 3,
   "metadata": {},
   "outputs": [],
   "source": [
    "def float2binary(parent, nvar, ndec=2, chromosome_size=11):\n",
    "    \"\"\"\n",
    "    Converts each of the nvar values of the parent to binary of size \"chromosome_size\" and concatenates them\n",
    "    to 1 string\n",
    "    Args:\n",
    "        parent (list) - list of nvar floating values\n",
    "        nvar (int) - no. of variables, the size of parent\n",
    "        ndec (int) - max no. of decimal points of each values in parent\n",
    "        chromosome_size (int) - no. of bits to which each value in parent is converted\n",
    "    Return:\n",
    "        parent_bin (str) - binary no. string made by concatenating each value's binary equivalent\n",
    "    \"\"\"\n",
    "    parent_bin = \"\"\n",
    "    for i in range(nvar):\n",
    "        val = int(parent[i]*10**ndec) #converting from float to int, later will be converted back\n",
    "        binary = bin(val)[2:]\n",
    "        binary = \"0\"*(chromosome_size-len(binary)) + binary\n",
    "        parent_bin = parent_bin + binary\n",
    "    return parent_bin\n",
    "def binary2float(child, nvar, ndec=2, chromosome_size=11):\n",
    "    \"\"\"\n",
    "    Converts the child string to nvar float values by reversin the effect of float2binary\n",
    "    Args:\n",
    "        child (str) - binary no. string made by concatenating each value's binary equivalent,\n",
    "                     size - nvar*chromosome_size\n",
    "        nvar (int) - no. of variables whose binary are concatenated in child\n",
    "        ndec (int) - max no. of decimal points of each values \n",
    "        chromosome_size (int) - no. of bits of each value in child\n",
    "    Return:\n",
    "        child (list) - list of nvar floating values\n",
    "    \"\"\"\n",
    "    child_float = []\n",
    "    \n",
    "    for i in range(nvar):\n",
    "        val = child[i*chromosome_size:(i+1)*chromosome_size]\n",
    "        val = int(val, 2)/10**ndec    #converting to float, reversing the effect of binary conversion\n",
    "        child_float.append(val)\n",
    "        \n",
    "    return child_float"
   ]
  },
  {
   "cell_type": "code",
   "execution_count": 4,
   "metadata": {},
   "outputs": [],
   "source": [
    "def initialize_population(npop, nvar = 2, var_range = [(0,10), (0,20)], ndecimal = 2, seed = 0):\n",
    "    \"\"\"Initializes population and returns it\n",
    "    Args:\n",
    "        npop (int)- population size\n",
    "        nvar (int)- no. of variables in the problem\n",
    "        var_range (list) - a list of tuples, where ith tuple is the range of values ith variable takes\n",
    "        ndecimal (int)- max no. digits after decimal points the variables can take, helps in converting to binary\n",
    "        seed (int)- numpy random seed \n",
    "    Return:\n",
    "        initial_pop (2d-array of size (npop,nvar)) - ith row corresponsds to ith member in population\n",
    "                                                            which is a list of nvar values\n",
    "    \"\"\"\n",
    "    np.random.seed(seed)\n",
    "    initial_pop = []\n",
    "    for i in range(nvar):\n",
    "        var_size = var_range[i]\n",
    "        new_member = np.around(np.random.uniform(var_size[0], var_size[1], (1,npop)), 2)\n",
    "        initial_pop.append(new_member)\n",
    "    initial_pop = np.array(initial_pop).T\n",
    "    return initial_pop.squeeze()"
   ]
  },
  {
   "cell_type": "code",
   "execution_count": 5,
   "metadata": {},
   "outputs": [],
   "source": [
    "def tournament_selection(npop, rank):\n",
    "    \"\"\"\n",
    "    Selects a parent for mating besed on touranment selection\n",
    "    Args:\n",
    "        npop (int)- population size\n",
    "        rank (dict) - a dictionary containing the ranks of each member from current population\n",
    "    \"\"\"\n",
    "    parent1 = np.random.randint(0, npop)\n",
    "    parent2 = np.random.randint(0, npop)\n",
    "    \n",
    "    return (parent1 if rank[parent1]<rank[parent2] else parent2)"
   ]
  },
  {
   "cell_type": "code",
   "execution_count": 6,
   "metadata": {},
   "outputs": [],
   "source": [
    "def crossover(parent1, parent2, nvar=2, ndec=2, prob = 0.85, chromosome_size = 11):\n",
    "    \"\"\"\n",
    "    Perfroms two point genetic crossover and returns the new children\n",
    "    NOTE - Does not apply bouds to new child here!\n",
    "    \n",
    "    Args:\n",
    "        parent1, parent2 (list) - parents each containing nvar values\n",
    "        ndec (int) - max no. of decimal points in values contained in parents\n",
    "        prob (float) - the probabilty for doing crossover\n",
    "        chromosome_size (int)- the size of the binary equivalent of largest no. in var_size \n",
    "    Return:\n",
    "        child1, child2 (list)\n",
    "    \"\"\"\n",
    "    parent1_ = float2binary(parent1, nvar, ndec, chromosome_size)\n",
    "    parent2_ = float2binary(parent2, nvar, ndec, chromosome_size)\n",
    "    \n",
    "    crossover_point1 = np.random.randint(2,chromosome_size*nvar//2)\n",
    "    crossover_point2 = np.random.randint(1+chromosome_size*nvar//2, chromosome_size*nvar-1)\n",
    "    if np.random.rand()<=prob:\n",
    "        child1 = parent1_[:crossover_point1] + parent2_[crossover_point1:crossover_point2] + parent1_[crossover_point2:]\n",
    "        child2 = parent2_[:crossover_point1] + parent1_[crossover_point1:crossover_point2] + parent2_[crossover_point2:]\n",
    "        \n",
    "        child1 = binary2float(child1, nvar, ndec, chromosome_size)\n",
    "        child2 = binary2float(child2, nvar, ndec, chromosome_size)\n",
    "        return child1, child2\n",
    "    return parent1, parent2"
   ]
  },
  {
   "cell_type": "code",
   "execution_count": 7,
   "metadata": {},
   "outputs": [],
   "source": [
    "def mutation(child, nvar = 2, ndec = 2, chromosome_size = 11, mutRate = 0.005):\n",
    "    \"\"\"\n",
    "    Performs mutation on the child by converting it to binary and flipping each bit on prob = mutRate\n",
    "    NOTE - Does not do applyBounds\n",
    "    \"\"\"\n",
    "    childBin = float2binary(child, nvar = 2, ndec = 2, chromosome_size = 11)\n",
    "    flip = np.int32(np.random.randn(chromosome_size*nvar)<=mutRate)\n",
    "    mutChild = ''\n",
    "    \n",
    "    for i in range(chromosome_size*nvar):\n",
    "        mutChild = mutChild + flipBit(childBin[i], flip[i])\n",
    "    mutChild = binary2float(mutChild, nvar, ndec, chromosome_size)\n",
    "    return mutChild"
   ]
  },
  {
   "cell_type": "code",
   "execution_count": 8,
   "metadata": {},
   "outputs": [],
   "source": [
    "def crowdingDistSorting(children, population):\n",
    "    \"\"\"\n",
    "    Sorts the chldren belonging to population acc. to the crowding distance sorting\n",
    "    NOTE - Works only for 2 obective functions\n",
    "    Args:\n",
    "        Children (2D array of size (?,nvar)) - the subset of population belonging to a particular pareto \n",
    "                                                which needs to be sorted\n",
    "        Population (2D array of size (npop, nvar)) - the current population\n",
    "    Returns : Sorted Children\n",
    "    \"\"\"\n",
    "    \n",
    "    \n",
    "    costValArray = convert2objective(population)\n",
    "\n",
    "    Smax, Tmax = np.max(costValArray, axis = 0)  #surfaceArea, TotalArea\n",
    "    Smin, Tmin = np.min(costValArray, axis = 0)\n",
    "\n",
    "    tmpCrowd = []\n",
    "    \n",
    "    tmp = np.copy(children)\n",
    "    #assign inf distance to the extreme points corresponding to all objective functions\n",
    "    tmp = sorted(children, key=lambda x:lateralSA(population[x][0], population[x][1]))\n",
    "    tmpCrowd.append((tmp[0] ,float('inf')))\n",
    "    tmpCrowd.append((tmp[-1], float('inf')))\n",
    "    min1 = tmp[0]\n",
    "    max1 = tmp[-1]\n",
    "    \n",
    "    tmp = sorted(children, key=lambda x:totalSA(population[x][0], population[x][1]))\n",
    "    tmpCrowd.append([tmp[0] ,float('inf')])\n",
    "    tmpCrowd.append([tmp[-1], float('inf')])\n",
    "    min2 = tmp[0]\n",
    "    max2 = tmp[-1]\n",
    "    \n",
    "    extremes = {min1, min2, max1, max2}\n",
    "    for idx, val in enumerate(tmp):\n",
    "        if val in extremes:\n",
    "            pass\n",
    "        else:\n",
    "            dist = abs(lateralSA(population[tmp[idx+1]][0], population[tmp[idx+1]][1])-\n",
    "                    lateralSA(population[tmp[idx-1]][0], population[tmp[idx-1]][1]))/(Smax-Smin)+abs(\n",
    "                    totalSA(population[tmp[idx+1]][0], population[tmp[idx+1]][1]) - \n",
    "                    totalSA(population[tmp[idx-1]][0], population[tmp[idx-1]][1]))/(Tmax-Tmin)\n",
    "\n",
    "            tmpCrowd.append([val, dist])\n",
    "    \n",
    "    tmpCrowd = np.array(tmpCrowd)\n",
    "    newChildren = np.array(sorted(tmpCrowd, key = lambda x:x[1], reverse=True)).squeeze()\n",
    "    newChildren = newChildren[:,0]\n",
    "    idx = np.unique(newChildren, return_index = True)[1]\n",
    "    newChildren = [newChildren[i] for i in sorted(idx)]\n",
    "    return np.int32(newChildren)"
   ]
  },
  {
   "cell_type": "code",
   "execution_count": 9,
   "metadata": {},
   "outputs": [],
   "source": [
    "def atLeast1dominate(front, x):\n",
    "    \"\"\"\n",
    "    Checks wheather atleast one soln in front dominates soln x\n",
    "    Args:\n",
    "        front (list) - list of soln(with cost values) belonging to a front\n",
    "        x (array) - a solution containing the cost values\n",
    "    Returns:\n",
    "        True/ False\n",
    "    \"\"\"\n",
    "    if True in [(i<x).all() for i in front]:\n",
    "        return True\n",
    "    return False\n",
    "def findFront(idx, paretoFronts, costs):\n",
    "    \"\"\"\n",
    "    Returns the front to which the solution[idx] belongs, and simultaneously updates the Pareto front\n",
    "    Args:\n",
    "        idx (int) - the index of the solution whose front no. is to be found\n",
    "        paretoFronts (dict) - the current paretoFronts, to be updated too.\n",
    "        costs (2D array)- the cost values array corresponding the current population sorted to descending\n",
    "                            order of 1 cost function (here lateralSA)\n",
    "    Return:\n",
    "        front (int) - the front no. to which soln[idx] belongs\n",
    "    Update:\n",
    "        paretoFronts (dict) - assigns idx to ParetoFronts[front]\n",
    "    \"\"\"\n",
    "    l = len(paretoFronts)\n",
    "    if l==0:\n",
    "        paretoFronts[1] = [idx]\n",
    "        return 1\n",
    "    for i in paretoFronts:\n",
    "        front = paretoFronts[i]\n",
    "        if atLeast1dominate([costs[t] for t in front], costs[idx])==False:\n",
    "            paretoFronts[i].append(idx)\n",
    "            return idx\n",
    "    paretoFronts[l+1] = [idx]\n",
    "    return l+1\n",
    "def nonDominatedSorting(population):\n",
    "    \"\"\"\n",
    "    Perfroms non-dominated sorting on the population and returns the pareto front, along with the population \n",
    "    sorted in escending order of lateralSA \n",
    "    NOTE - crowding distance sorting not applied here\n",
    "    \"\"\"\n",
    "    nvar = population.shape[1]\n",
    "    npop = population.shape[0]\n",
    "    \n",
    "    populationSorted = np.array(sorted(population, key = lambda x:totalSA(x[0],x[1])))\n",
    "    costs = convert2objective(populationSorted)\n",
    "    paretoFronts = {}\n",
    "    \n",
    "    for i in range(npop):\n",
    "        findFront(i, paretoFronts, costs)\n",
    "    return paretoFronts, populationSorted\n",
    "\n",
    "def updateRank(paretoFronts):\n",
    "    \"\"\"\n",
    "    Returns the updated rank of each solution\n",
    "    Args:\n",
    "        paretoFronts (dict) - current pareto fronts\n",
    "    Return:\n",
    "        rank (dict) - rank of each solution idx\n",
    "    \"\"\"\n",
    "    ranks = {}\n",
    "    r = 1\n",
    "    for front in paretoFronts:\n",
    "        for idx in paretoFronts[front]:\n",
    "            ranks[idx] = r\n",
    "            r+=1\n",
    "    return ranks\n",
    "def updatePopulation(population, paretoFronts, npop):\n",
    "    newPop = []\n",
    "    if len(population)<=npop:\n",
    "        return population\n",
    "    count=0\n",
    "    flag = 0\n",
    "    for front in paretoFronts:\n",
    "        if flag==1:\n",
    "            break\n",
    "        for x in paretoFronts[front]:\n",
    "            if count>=npop:\n",
    "                flag=1\n",
    "                break\n",
    "            newPop.append(population[x])\n",
    "            count+=1\n",
    "    return np.array(newPop)\n",
    "def plotParetoFronts(paretoFronts, population):\n",
    "    \"\"\"\n",
    "    Plots the pareto fronts from the given pareto front and population data\n",
    "    \"\"\"\n",
    "    costs = convert2objective(population)\n",
    "    plt.scatter(costs[:,0], costs[:,1])\n",
    "    for front in paretoFronts:\n",
    "        cost = np.array([costs[i] for i in paretoFronts[front]])\n",
    "        S = cost[:,0]\n",
    "        T = cost[:,1]\n",
    "        plt.plot(S,T)\n",
    "        #plt.show()\n",
    "    plt.xlabel(\"Lateral Surface Area\")\n",
    "    plt.ylabel(\"Total Surface Area\")\n",
    "    plt.title(\"Pareto Fronts\")"
   ]
  },
  {
   "cell_type": "markdown",
   "metadata": {},
   "source": [
    "## NSGA II"
   ]
  },
  {
   "cell_type": "code",
   "execution_count": 10,
   "metadata": {},
   "outputs": [],
   "source": [
    "def NSGA2(npop = 6, nvar = 2, niter = 100, crossoverProb = 0.95, mutationRate = 0.5,\n",
    "          var_range = [(0,10), (0,20)],constraintLimit = 200, seed = 0):\n",
    "    \"\"\"\n",
    "    Combines the above functions to implement the algorithm NSGA II\n",
    "    Returns the final solution population and the pareto front \n",
    "    \"\"\"\n",
    "    #initialization\n",
    "    population = initialize_population(npop, nvar, var_range, seed)\n",
    "    paretoFronts, population = nonDominatedSorting(population)\n",
    "    rank = updateRank(paretoFronts)\n",
    "    \n",
    "    for i in range(niter):\n",
    "        for j in range(npop//2):\n",
    "            #selection\n",
    "            p1 = tournament_selection(npop, rank)\n",
    "            p2 = tournament_selection(npop, rank)\n",
    "            #crossover & mutaion\n",
    "            c1, c2 = crossover(population[p1], population[p2],prob=crossoverProb)\n",
    "            c1, c2 = mutation(c1, mutRate= mutationRate), mutation(c2, mutRate=mutationRate)\n",
    "            #applying bounds\n",
    "            c1, c2 = applyBounds(c1), applyBounds(c2)\n",
    "            #adding childrent to the population\n",
    "            population = np.append(population, np.array([c1,c2]), axis = 0)\n",
    "        \n",
    "        population = applyConstraint(population, constraintLimit)\n",
    "        paretoFronts, population = nonDominatedSorting(population)\n",
    "        for front in paretoFronts:\n",
    "            if len(paretoFronts[front])>1:\n",
    "                paretoFronts[front] = crowdingDistSorting(paretoFronts[front], population)\n",
    "        rank = updateRank(paretoFronts)\n",
    "        population = updatePopulation(population,paretoFronts, npop)\n",
    "        paretoFronts, population = nonDominatedSorting(population)\n",
    "    return paretoFronts, population"
   ]
  },
  {
   "cell_type": "code",
   "execution_count": 11,
   "metadata": {},
   "outputs": [],
   "source": [
    "#parameters\n",
    "npop = 10\n",
    "niter = 1000\n",
    "crossoverProb = 0.95\n",
    "mutationRate = 0.5\n",
    "paretoFronts, population = NSGA2(npop=10, niter = 1000, crossoverProb=crossoverProb, mutationRate=mutationRate)"
   ]
  },
  {
   "cell_type": "code",
   "execution_count": 12,
   "metadata": {},
   "outputs": [
    {
     "data": {
      "image/png": "[encoded data removed]",
      "text/plain": [
       "<Figure size 432x288 with 1 Axes>"
      ]
     },
     "metadata": {
      "needs_background": "light"
     },
     "output_type": "display_data"
    }
   ],
   "source": [
    "plotParetoFronts(paretoFronts, population)"
   ]
  },
  {
   "cell_type": "code",
   "execution_count": 13,
   "metadata": {},
   "outputs": [
    {
     "data": {
      "text/plain": [
       "array([[ 3.95, 12.24],\n",
       "       [ 3.99, 12.25],\n",
       "       [ 4.34, 10.46],\n",
       "       [ 4.68,  8.8 ],\n",
       "       [ 4.35, 10.56],\n",
       "       [ 4.79,  8.51],\n",
       "       [ 5.08,  7.42],\n",
       "       [ 4.94,  8.22],\n",
       "       [ 5.25,  7.05],\n",
       "       [ 5.43,  6.49]])"
      ]
     },
     "execution_count": 13,
     "metadata": {},
     "output_type": "execute_result"
    }
   ],
   "source": [
    "population"
   ]
  },
  {
   "cell_type": "code",
   "execution_count": 14,
   "metadata": {
    "scrolled": true
   },
   "outputs": [
    {
     "data": {
      "text/plain": [
       "array([[159.67, 208.71],\n",
       "       [161.57, 211.6 ],\n",
       "       [154.47, 213.68],\n",
       "       [146.61, 215.45],\n",
       "       [156.15, 215.62],\n",
       "       [147.02, 219.13],\n",
       "       [143.58, 224.69],\n",
       "       [148.9 , 225.6 ],\n",
       "       [145.04, 231.67],\n",
       "       [144.42, 237.09]])"
      ]
     },
     "execution_count": 14,
     "metadata": {},
     "output_type": "execute_result"
    }
   ],
   "source": [
    "convert2objective(population)"
   ]
  },
  {
   "cell_type": "code",
   "execution_count": 15,
   "metadata": {},
   "outputs": [
    {
     "data": {
      "text/plain": [
       "{1: [0, 2, 3, 6], 2: [1, 4, 5, 8, 9], 3: [7]}"
      ]
     },
     "execution_count": 15,
     "metadata": {},
     "output_type": "execute_result"
    }
   ],
   "source": [
    "paretoFronts"
   ]
  },
  {
   "cell_type": "code",
   "execution_count": null,
   "metadata": {},
   "outputs": [],
   "source": []
  }
 ],
 "metadata": {
  "kernelspec": {
   "display_name": "Python 3",
   "language": "python",
   "name": "python3"
  },
  "language_info": {
   "codemirror_mode": {
    "name": "ipython",
    "version": 3
   },
   "file_extension": ".py",
   "mimetype": "text/x-python",
   "name": "python",
   "nbconvert_exporter": "python",
   "pygments_lexer": "ipython3",
   "version": "3.7.7"
  }
 },
 "nbformat": 4,
 "nbformat_minor": 4
}
