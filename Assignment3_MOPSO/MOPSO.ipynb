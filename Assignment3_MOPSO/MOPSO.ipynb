{
 "cells": [
  {
   "cell_type": "code",
   "execution_count": 1,
   "metadata": {},
   "outputs": [],
   "source": [
    "#MOPSO\n",
    "import numpy as np\n",
    "global GLOBAL_BEST"
   ]
  },
  {
   "cell_type": "code",
   "execution_count": 2,
   "metadata": {},
   "outputs": [],
   "source": [
    "def crowdingDistSorting(children, population):\n",
    "    \"\"\"\n",
    "    Sorts the chldren belonging to population acc. to the crowding distance sorting\n",
    "    NOTE - Works only for 2 obective functions\n",
    "    Args:\n",
    "        Children (2D array of size (?,nvar)) - the subset of population belonging to a particular pareto \n",
    "                                                which needs to be sorted\n",
    "        Population (2D array of size (npop, nvar)) - the current population\n",
    "    Returns : Sorted Children\n",
    "    \"\"\"\n",
    "    \n",
    "    \n",
    "    costValArray = convert2objective(population)\n",
    "\n",
    "    Smax, Tmax = np.max(costValArray, axis = 0)  #surfaceArea, TotalArea\n",
    "    Smin, Tmin = np.min(costValArray, axis = 0)\n",
    "\n",
    "    tmpCrowd = []\n",
    "    \n",
    "    tmp = np.copy(children)\n",
    "    #assign inf distance to the extreme points corresponding to all objective functions\n",
    "    tmp = sorted(children, key=lambda x:lateralSA(population[x][0], population[x][1]))\n",
    "    tmpCrowd.append((tmp[0] ,float('inf')))\n",
    "    tmpCrowd.append((tmp[-1], float('inf')))\n",
    "    min1 = tmp[0]\n",
    "    max1 = tmp[-1]\n",
    "    \n",
    "    tmp = sorted(children, key=lambda x:totalSA(population[x][0], population[x][1]))\n",
    "    tmpCrowd.append([tmp[0] ,float('inf')])\n",
    "    tmpCrowd.append([tmp[-1], float('inf')])\n",
    "    min2 = tmp[0]\n",
    "    max2 = tmp[-1]\n",
    "    \n",
    "    extremes = {min1, min2, max1, max2}\n",
    "    for idx, val in enumerate(tmp):\n",
    "        if val in extremes:\n",
    "            pass\n",
    "        else:\n",
    "            dist = abs(lateralSA(population[tmp[idx+1]][0], population[tmp[idx+1]][1])-\n",
    "                    lateralSA(population[tmp[idx-1]][0], population[tmp[idx-1]][1]))/(Smax-Smin)+abs(\n",
    "                    totalSA(population[tmp[idx+1]][0], population[tmp[idx+1]][1]) - \n",
    "                    totalSA(population[tmp[idx-1]][0], population[tmp[idx-1]][1]))/(Tmax-Tmin)\n",
    "\n",
    "            tmpCrowd.append([val, dist])\n",
    "    \n",
    "    tmpCrowd = np.array(tmpCrowd)\n",
    "    newChildren = np.array(sorted(tmpCrowd, key = lambda x:x[1], reverse=True)).squeeze()\n",
    "    newChildren = newChildren[:,0]\n",
    "    idx = np.unique(newChildren, return_index = True)[1]\n",
    "    newChildren = [newChildren[i] for i in sorted(idx)]\n",
    "    return np.int32(newChildren)"
   ]
  },
  {
   "cell_type": "code",
   "execution_count": 3,
   "metadata": {},
   "outputs": [],
   "source": [
    "def atLeast1dominate(front, x):\n",
    "    \"\"\"\n",
    "    Checks wheather atleast one soln in front dominates soln x\n",
    "    Args:\n",
    "        front (list) - list of soln(with cost values) belonging to a front\n",
    "        x (array) - a solution containing the cost values\n",
    "    Returns:\n",
    "        True/ False\n",
    "    \"\"\"\n",
    "    if True in [(i<x).all() for i in front]:\n",
    "        return True\n",
    "    return False\n",
    "def findFront(idx, paretoFronts, costs):\n",
    "    \"\"\"\n",
    "    Returns the front to which the solution[idx] belongs, and simultaneously updates the Pareto front\n",
    "    Args:\n",
    "        idx (int) - the index of the solution whose front no. is to be found\n",
    "        paretoFronts (dict) - the current paretoFronts, to be updated too.\n",
    "        costs (2D array)- the cost values array corresponding the current population sorted to descending\n",
    "                            order of 1 cost function (here lateralSA)\n",
    "    Return:\n",
    "        front (int) - the front no. to which soln[idx] belongs\n",
    "    Update:\n",
    "        paretoFronts (dict) - assigns idx to ParetoFronts[front]\n",
    "    \"\"\"\n",
    "    l = len(paretoFronts)\n",
    "    if l==0:\n",
    "        paretoFronts[1] = [idx]\n",
    "        return 1\n",
    "    for i in paretoFronts:\n",
    "        front = paretoFronts[i]\n",
    "        if atLeast1dominate([costs[t] for t in front], costs[idx])==False:\n",
    "            paretoFronts[i].append(idx)\n",
    "            return idx\n",
    "    paretoFronts[l+1] = [idx]\n",
    "    return l+1\n",
    "def nonDominatedSorting(population, cost1, cost2, convert2objective):\n",
    "    \"\"\"\n",
    "    Perfroms non-dominated sorting on the population and returns the pareto front, along with the population \n",
    "    sorted in escending order of lateralSA \n",
    "    NOTE - crowding distance sorting not applied here\n",
    "    \"\"\"\n",
    "    nvar = len(population[0].position)\n",
    "    npop = len(population)\n",
    "    \n",
    "    \n",
    "    populationSorted = np.array(sorted(population, key = lambda x:cost1(x.position))\n",
    "    costs = convert2objective(populationSorted)\n",
    "    paretoFronts = {}\n",
    "    \n",
    "    for i in range(npop):\n",
    "        findFront(i, paretoFronts, costs)\n",
    "    return paretoFronts, populationSorted\n",
    "\n",
    "def updateRank(paretoFronts):\n",
    "    \"\"\"\n",
    "    Returns the updated rank of each solution\n",
    "    Args:\n",
    "        paretoFronts (dict) - current pareto fronts\n",
    "    Return:\n",
    "        rank (dict) - rank of each solution idx\n",
    "    \"\"\"\n",
    "    ranks = {}\n",
    "    r = 1\n",
    "    for front in paretoFronts:\n",
    "        for idx in paretoFronts[front]:\n",
    "            ranks[idx] = r\n",
    "            r+=1\n",
    "    return ranks\n",
    "def updatePopulation(population, paretoFronts, npop):\n",
    "    newPop = []\n",
    "    if len(population)<=npop:\n",
    "        return population\n",
    "    count=0\n",
    "    flag = 0\n",
    "    for front in paretoFronts:\n",
    "        if flag==1:\n",
    "            break\n",
    "        for x in paretoFronts[front]:\n",
    "            if count>=npop:\n",
    "                flag=1\n",
    "                break\n",
    "            newPop.append(population[x])\n",
    "            count+=1\n",
    "    return np.array(newPop)\n",
    "def plotParetoFronts(paretoFronts, population, convert2objective):\n",
    "    \"\"\"\n",
    "    Plots the pareto fronts from the given pareto front and population data\n",
    "    \"\"\"\n",
    "    costs = convert2objective(population)\n",
    "    plt.scatter(costs[:,0], costs[:,1])\n",
    "    for front in paretoFronts:\n",
    "        cost = np.array([costs[i] for i in paretoFronts[front]])\n",
    "        S = cost[:,0]\n",
    "        T = cost[:,1]\n",
    "        plt.plot(S,T)\n",
    "        #plt.show()\n",
    "    plt.xlabel(\"Lateral Surface Area\")\n",
    "    plt.ylabel(\"Total Surface Area\")\n",
    "    plt.title(\"Pareto Fronts\")"
   ]
  },
  {
   "cell_type": "code",
   "execution_count": 6,
   "metadata": {},
   "outputs": [],
   "source": [
    "class particle:\n",
    "    def __init__(self):\n",
    "        self.position = None\n",
    "        self.velocity = None\n",
    "        self.cost1 = None\n",
    "        self.cost2 = None\n",
    "        self.best = None\n",
    "        "
   ]
  },
  {
   "cell_type": "code",
   "execution_count": 19,
   "metadata": {},
   "outputs": [
    {
     "data": {
      "text/plain": [
       "5"
      ]
     },
     "execution_count": 19,
     "metadata": {},
     "output_type": "execute_result"
    }
   ],
   "source": [
    "a = particle()\n",
    "a.position = 5\n",
    "a.velocity = 6\n",
    "a.best = a\n",
    "b = a\n",
    "del a\n",
    "b.best.position"
   ]
  },
  {
   "cell_type": "code",
   "execution_count": 26,
   "metadata": {},
   "outputs": [],
   "source": [
    "def initialisePop(npop, cost1, cost2, nvar, varMax, varMin):\n",
    "    global  GLOBAL-BEST\n",
    "    population = []\n",
    "    for i in range(npop):\n",
    "        x = particle()\n",
    "        x.position = np.around(np.random.uniform(low=varMin, high = varMax, size = nvar), 2)\n",
    "        x.velocity = np.zeros(nvar)\n",
    "        x.cost1 = cost1(x.position)\n",
    "        x.cost2 = cost2(x.position)\n",
    "        x.best = x\n",
    "        population.append(x)\n",
    "        del x\n",
    "    return population"
   ]
  },
  {
   "cell_type": "code",
   "execution_count": 28,
   "metadata": {},
   "outputs": [
    {
     "name": "stdout",
     "output_type": "stream",
     "text": [
      "[0.92 0.99] [0. 0.]\n",
      "[0.46 0.2 ] [0. 0.]\n",
      "[0.16 0.49] [0. 0.]\n"
     ]
    }
   ],
   "source": [
    "#sanity check\n",
    "pops = initialisePop(3, lambda x:x*0, lambda x:x*0, 2, 0, 1)\n",
    "for i in pops:\n",
    "    print (i.best.position, i.best.cost1)"
   ]
  },
  {
   "cell_type": "code",
   "execution_count": 30,
   "metadata": {},
   "outputs": [
    {
     "ename": "SyntaxError",
     "evalue": "invalid syntax (<ipython-input-30-62f700176cd8>, line 1)",
     "output_type": "error",
     "traceback": [
      "\u001b[0;36m  File \u001b[0;32m\"<ipython-input-30-62f700176cd8>\"\u001b[0;36m, line \u001b[0;32m1\u001b[0m\n\u001b[0;31m    global GLOBAl_BEST = 5\u001b[0m\n\u001b[0m                       ^\u001b[0m\n\u001b[0;31mSyntaxError\u001b[0m\u001b[0;31m:\u001b[0m invalid syntax\n"
     ]
    }
   ],
   "source": [
    "def mopsoOptimizer(cost1, cost2, npop = 50, nvar = 2, varMax=1, varMin=0, niter = 200, c1=2, c2=2, w=1, wdamp=0.99):\n",
    "    global GLOBAL_BEST\n",
    "    GLOBAL_BEST = float(\"inf\")\n",
    "    convert2objective = lambda x:np.array([[cost1(i.position), cost2(i.position)] for i in x])\n",
    "    \n",
    "    population = initialisePop(npop, cost1, cost2, nvar, varMax, varMin)\n",
    "    paretoFronts, population = nonDominatedSorting(population, convert2objective)\n",
    "    \n",
    "\n",
    "    "
   ]
  },
  {
   "cell_type": "code",
   "execution_count": 2,
   "metadata": {},
   "outputs": [
    {
     "data": {
      "text/plain": [
       "0"
      ]
     },
     "execution_count": 2,
     "metadata": {},
     "output_type": "execute_result"
    }
   ],
   "source": [
    "a = 'abc'\n",
    "a.index(\"a\")"
   ]
  },
  {
   "cell_type": "code",
   "execution_count": 3,
   "metadata": {},
   "outputs": [
    {
     "data": {
      "text/plain": [
       "0"
      ]
     },
     "execution_count": 3,
     "metadata": {},
     "output_type": "execute_result"
    }
   ],
   "source": [
    "a.index(\"\")"
   ]
  },
  {
   "cell_type": "code",
   "execution_count": null,
   "metadata": {},
   "outputs": [],
   "source": []
  }
 ],
 "metadata": {
  "kernelspec": {
   "display_name": "Python 3",
   "language": "python",
   "name": "python3"
  },
  "language_info": {
   "codemirror_mode": {
    "name": "ipython",
    "version": 3
   },
   "file_extension": ".py",
   "mimetype": "text/x-python",
   "name": "python",
   "nbconvert_exporter": "python",
   "pygments_lexer": "ipython3",
   "version": "3.7.7"
  }
 },
 "nbformat": 4,
 "nbformat_minor": 4
}
