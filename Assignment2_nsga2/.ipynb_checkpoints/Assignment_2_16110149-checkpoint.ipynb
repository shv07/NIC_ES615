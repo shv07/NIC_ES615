{
 "cells": [
  {
   "cell_type": "code",
   "execution_count": 1,
   "metadata": {},
   "outputs": [],
   "source": [
    "import numpy as np\n",
    "import matplotlib.pyplot as plt"
   ]
  },
  {
   "cell_type": "code",
   "execution_count": 133,
   "metadata": {},
   "outputs": [],
   "source": [
    "###utility functions#####\n",
    "#function 1\n",
    "def lateralSA(r,h, pi = 3.143):\n",
    "    l = (r**2+h**2)**0.5\n",
    "    return pi*r*l\n",
    "\n",
    "#funciton 2\n",
    "def totalSA(r,h, pi = 3.143):\n",
    "    return lateralSA(r,h) + pi*r**2\n",
    "\n",
    "#constraint_function\n",
    "def volume(r, h, pi = 3.143):\n",
    "    return (1/3)*pi*h*r**2\n",
    "\n",
    "def flipBit(s, prob):\n",
    "    assert s in [\"0\", \"1\"]\n",
    "    assert prob in [0,1]\n",
    "    if prob==1:\n",
    "        return '1' if s=='0' else '0'\n",
    "    return s\n",
    "def applyBounds(x, lower, upper):\n",
    "    #x (float)\n",
    "    y = max(x,lower)\n",
    "    y = min(x,upper)\n",
    "    y = np.around(y,2)\n",
    "    return y\n"
   ]
  },
  {
   "cell_type": "code",
   "execution_count": null,
   "metadata": {},
   "outputs": [],
   "source": []
  },
  {
   "cell_type": "code",
   "execution_count": 116,
   "metadata": {},
   "outputs": [],
   "source": [
    "def float2binary(parent, nvar, ndec=2, chromosome_size=11):\n",
    "    \"\"\"\n",
    "    Converts each of the nvar values of the parent to binary of size \"chromosome_size\" and concatenates them\n",
    "    to 1 string\n",
    "    Args:\n",
    "        parent (list) - list of nvar floating values\n",
    "        nvar (int) - no. of variables, the size of parent\n",
    "        ndec (int) - max no. of decimal points of each values in parent\n",
    "        chromosome_size (int) - no. of bits to which each value in parent is converted\n",
    "    Return:\n",
    "        parent_bin (str) - binary no. string made by concatenating each value's binary equivalent\n",
    "    \"\"\"\n",
    "    parent_bin = \"\"\n",
    "    for i in range(nvar):\n",
    "        val = int(parent[i]*10**ndec) #converting from float to int, later will be converted back\n",
    "        binary = bin(val)[2:]\n",
    "        binary = \"0\"*(chromosome_size-len(binary)) + binary\n",
    "        parent_bin = parent_bin + binary\n",
    "    return parent_bin\n",
    "def binary2float(child, nvar, ndec=2, chromosome_size=11):\n",
    "    \"\"\"\n",
    "    Converts the child string to nvar float values by reversin the effect of float2binary\n",
    "    Args:\n",
    "        child (str) - binary no. string made by concatenating each value's binary equivalent,\n",
    "                     size - nvar*chromosome_size\n",
    "        nvar (int) - no. of variables whose binary are concatenated in child\n",
    "        ndec (int) - max no. of decimal points of each values \n",
    "        chromosome_size (int) - no. of bits of each value in child\n",
    "    Return:\n",
    "        child (list) - list of nvar floating values\n",
    "    \"\"\"\n",
    "    child_float = []\n",
    "    \n",
    "    for i in range(nvar):\n",
    "        val = child[i*chromosome_size:(i+1)*chromosome_size]\n",
    "        val = int(val, 2)/10**ndec    #converting to float, reversing the effect of binary conversion\n",
    "        child_float.append(val)\n",
    "        \n",
    "    return child_float"
   ]
  },
  {
   "cell_type": "code",
   "execution_count": 75,
   "metadata": {},
   "outputs": [
    {
     "data": {
      "text/plain": [
       "[2.0, 3.0, 10.0]"
      ]
     },
     "execution_count": 75,
     "metadata": {},
     "output_type": "execute_result"
    }
   ],
   "source": [
    "#verify correctness\n",
    "binary2float(float2binary([2.0,3.0,10.0],3,0,4),3,0,4) "
   ]
  },
  {
   "cell_type": "code",
   "execution_count": 36,
   "metadata": {},
   "outputs": [],
   "source": [
    "def initialize_population(npop, nvar = 2, var_range = [(0,10), (0,20)], ndecimal = 2, seed = 0):\n",
    "    \"\"\"Initializes population and returns it\n",
    "    Args:\n",
    "        npop (int)- population size\n",
    "        nvar (int)- no. of variables in the problem\n",
    "        var_range (list) - a list of tuples, where ith tuple is the range of values ith variable takes\n",
    "        ndecimal (int)- max no. digits after decimal points the variables can take, helps in converting to binary\n",
    "        seed (int)- numpy random seed \n",
    "    Return:\n",
    "        initial_pop (2d-array of size (npop,nvar)) - ith row corresponsds to ith member in population\n",
    "                                                            which is a list of nvar values\n",
    "    \"\"\"\n",
    "    np.random.seed(seed)\n",
    "    initial_pop = []\n",
    "    for i in range(nvar):\n",
    "        var_size = var_range[i]\n",
    "        new_member = np.around(np.random.uniform(var_size[0], var_size[1], (1,npop)), 2)\n",
    "        initial_pop.append(new_member)\n",
    "    initial_pop = np.array(initial_pop).T\n",
    "    return initial_pop.squeeze()"
   ]
  },
  {
   "cell_type": "code",
   "execution_count": 22,
   "metadata": {},
   "outputs": [],
   "source": [
    "np.random.seed(0)\n",
    "a = np.random.uniform(0, 10, (1,5))\n",
    "b = np.random.uniform(0, 20, (1,5))\n",
    "c = np.append(a,b,axis = 0).T"
   ]
  },
  {
   "cell_type": "code",
   "execution_count": 23,
   "metadata": {},
   "outputs": [
    {
     "data": {
      "text/plain": [
       "array([[5.48813504, 7.15189366, 6.02763376, 5.44883183, 4.23654799]])"
      ]
     },
     "execution_count": 23,
     "metadata": {},
     "output_type": "execute_result"
    }
   ],
   "source": [
    "a"
   ]
  },
  {
   "cell_type": "code",
   "execution_count": 24,
   "metadata": {},
   "outputs": [
    {
     "data": {
      "text/plain": [
       "array([[12.91788226,  8.75174423, 17.83546002, 19.27325521,  7.66883038]])"
      ]
     },
     "execution_count": 24,
     "metadata": {},
     "output_type": "execute_result"
    }
   ],
   "source": [
    "b"
   ]
  },
  {
   "cell_type": "code",
   "execution_count": 25,
   "metadata": {},
   "outputs": [
    {
     "data": {
      "text/plain": [
       "array([[ 5.48813504, 12.91788226],\n",
       "       [ 7.15189366,  8.75174423],\n",
       "       [ 6.02763376, 17.83546002],\n",
       "       [ 5.44883183, 19.27325521],\n",
       "       [ 4.23654799,  7.66883038]])"
      ]
     },
     "execution_count": 25,
     "metadata": {},
     "output_type": "execute_result"
    }
   ],
   "source": [
    "c"
   ]
  },
  {
   "cell_type": "code",
   "execution_count": 37,
   "metadata": {},
   "outputs": [
    {
     "data": {
      "text/plain": [
       "array([[ 5.49, 12.92],\n",
       "       [ 7.15,  8.75],\n",
       "       [ 6.03, 17.84],\n",
       "       [ 5.45, 19.27],\n",
       "       [ 4.24,  7.67]])"
      ]
     },
     "execution_count": 37,
     "metadata": {},
     "output_type": "execute_result"
    }
   ],
   "source": [
    "initialize_population(5)"
   ]
  },
  {
   "cell_type": "code",
   "execution_count": 41,
   "metadata": {},
   "outputs": [],
   "source": [
    "def tournament_selection(npop, rank):\n",
    "    \"\"\"\n",
    "    Selects a parent for mating besed on touranment selection\n",
    "    Args:\n",
    "        npop (int)- population size\n",
    "        rank (dict) - a dictionary containing the ranks of each member from current population\n",
    "    \"\"\"\n",
    "    parent1 = np.random.randint(0, npop)\n",
    "    parent2 = np.random.randint(0, npop)\n",
    "    \n",
    "    return (parent1 if rank[parent1]<rank[parent2] else parent2)"
   ]
  },
  {
   "cell_type": "code",
   "execution_count": 114,
   "metadata": {},
   "outputs": [],
   "source": [
    "def crossover(parent1, parent2, nvar=2, ndec=2, prob = 0.85, chromosome_size = 11):\n",
    "    \"\"\"\n",
    "    Perfroms two point genetic crossover and returns the new children\n",
    "    NOTE - Does not apply bouds to new child here!\n",
    "    \n",
    "    Args:\n",
    "        parent1, parent2 (list) - parents each containing nvar values\n",
    "        ndec (int) - max no. of decimal points in values contained in parents\n",
    "        prob (float) - the probabilty for doing crossover\n",
    "        chromosome_size (int)- the size of the binary equivalent of largest no. in var_size \n",
    "    Return:\n",
    "        child1, child2 (list)\n",
    "    \"\"\"\n",
    "    parent1_ = float2binary(parent1, nvar, ndec, chromosome_size)\n",
    "    parent2_ = float2binary(parent2, nvar, ndec, chromosome_size)\n",
    "    \n",
    "    crossover_point1 = np.random.randint(2,chromosome_size*nvar//2)\n",
    "    crossover_point2 = np.random.randint(1+chromosome_size*nvar//2, chromosome_size*nvar-1)\n",
    "    if np.random.rand()<=prob:\n",
    "        child1 = parent1_[:crossover_point1] + parent2_[crossover_point1:crossover_point2] + parent1_[crossover_point2:]\n",
    "        child2 = parent2_[:crossover_point1] + parent1_[crossover_point1:crossover_point2] + parent2_[crossover_point2:]\n",
    "        \n",
    "        child1 = binary2float(child1, nvar, ndec, chromosome_size)\n",
    "        child2 = binary2float(child2, nvar, ndec, chromosome_size)\n",
    "        return child1, child2\n",
    "    return parent1, parent2"
   ]
  },
  {
   "cell_type": "code",
   "execution_count": 115,
   "metadata": {},
   "outputs": [
    {
     "data": {
      "text/plain": [
       "Text(0.5, 1.0, 'Distribution of values taken after crossover of above parents')"
      ]
     },
     "execution_count": 115,
     "metadata": {},
     "output_type": "execute_result"
    },
    {
     "data": {
      "image/png": "[encoded data removed]",
      "text/plain": [
       "<Figure size 432x288 with 1 Axes>"
      ]
     },
     "metadata": {
      "needs_background": "light"
     },
     "output_type": "display_data"
    }
   ],
   "source": [
    "for i in range(50):\n",
    "    x,y = (crossover([5.63, 11.53], [1.56, 7.94]))\n",
    "    plt.scatter(x[0], x[1])\n",
    "    plt.scatter(y[0], y[1])\n",
    "plt.title(\"Distribution of values taken after crossover of above parents\")"
   ]
  },
  {
   "cell_type": "code",
   "execution_count": 146,
   "metadata": {},
   "outputs": [],
   "source": [
    "def mutation(child, nvar = 2, ndec = 2, chromosome_size = 11, mutRate = 0.005):\n",
    "    \"\"\"\n",
    "    Performs mutation on the child by converting it to binary and flipping each bit on prob = mutRate\n",
    "    NOTE - Does not do applyBounds\n",
    "    \"\"\"\n",
    "    childBin = float2binary(child, nvar = 2, ndec = 2, chromosome_size = 11)\n",
    "    flip = np.int32(np.random.randn(chromosome_size*nvar)<=mutRate)\n",
    "    mutChild = ''\n",
    "    \n",
    "    for i in range(chromosome_size*nvar):\n",
    "        mutChild = mutChild + flipBit(childBin[i], flip[i])\n",
    "    mutChild = binary2float(mutChild, nvar, ndec, chromosome_size)\n",
    "    return mutChild"
   ]
  },
  {
   "cell_type": "code",
   "execution_count": 161,
   "metadata": {},
   "outputs": [
    {
     "data": {
      "text/plain": [
       "[7.85, 14.82]"
      ]
     },
     "execution_count": 161,
     "metadata": {},
     "output_type": "execute_result"
    }
   ],
   "source": [
    "mutation([8.63,19.56])"
   ]
  },
  {
   "cell_type": "code",
   "execution_count": null,
   "metadata": {},
   "outputs": [],
   "source": []
  }
 ],
 "metadata": {
  "kernelspec": {
   "display_name": "Python 3",
   "language": "python",
   "name": "python3"
  },
  "language_info": {
   "codemirror_mode": {
    "name": "ipython",
    "version": 3
   },
   "file_extension": ".py",
   "mimetype": "text/x-python",
   "name": "python",
   "nbconvert_exporter": "python",
   "pygments_lexer": "ipython3",
   "version": "3.7.7"
  }
 },
 "nbformat": 4,
 "nbformat_minor": 4
}
