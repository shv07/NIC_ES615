{
 "cells": [
  {
   "cell_type": "code",
   "execution_count": 1,
   "metadata": {},
   "outputs": [],
   "source": [
    "import numpy as np\n",
    "import matplotlib.pyplot as plt"
   ]
  },
  {
   "cell_type": "code",
   "execution_count": 133,
   "metadata": {},
   "outputs": [],
   "source": [
    "###utility functions#####\n",
    "#function 1\n",
    "def lateralSA(r,h, pi = 3.143):\n",
    "    l = (r**2+h**2)**0.5\n",
    "    return pi*r*l\n",
    "\n",
    "#funciton 2\n",
    "def totalSA(r,h, pi = 3.143):\n",
    "    return lateralSA(r,h) + pi*r**2\n",
    "\n",
    "#constraint_function\n",
    "def volume(r, h, pi = 3.143):\n",
    "    return (1/3)*pi*h*r**2\n",
    "\n",
    "def flipBit(s, prob):\n",
    "    assert s in [\"0\", \"1\"]\n",
    "    assert prob in [0,1]\n",
    "    if prob==1:\n",
    "        return '1' if s=='0' else '0'\n",
    "    return s\n",
    "def applyBounds(x, lower, upper):\n",
    "    #x (float)\n",
    "    y = max(x,lower)\n",
    "    y = min(x,upper)\n",
    "    y = np.around(y,2)\n",
<<<<<<< HEAD
    "    return y\n",
    "def applyConstraint(child, limit = 200, rnew = 5, hnew = 10):\n",
    "    \"\"\"\n",
    "    \"\"\"\n",
    "    r, h = child\n",
    "    if volume(r,h)>200:\n",
    "        return child\n",
    "    return np.array([rnew, hnew])\n",
    "convert2objective = lambda x:np.around(np.array([lateralSA(x[:,0],x[:,1]), totalSA(x[:,0],x[:,1])]).T,2)"
=======
    "    return y\n"
>>>>>>> parent of d622071... updated assnmnt2
   ]
  },
  {
   "cell_type": "code",
   "execution_count": null,
   "metadata": {},
<<<<<<< HEAD
   "outputs": [
    {
     "data": {
      "text/plain": [
       "array([ 5.67, 20.  ])"
      ]
     },
     "execution_count": 3,
     "metadata": {},
     "output_type": "execute_result"
    }
   ],
   "source": [
    "applyBounds([5.67, 26.87])"
   ]
  },
  {
   "cell_type": "code",
   "execution_count": 4,
   "metadata": {},
=======
<<<<<<< HEAD
=======
   "outputs": [],
   "source": []
  },
  {
   "cell_type": "code",
   "execution_count": 116,
   "metadata": {},
>>>>>>> parent of d622071... updated assnmnt2
>>>>>>> 2494959... Revert "updated assnmnt2"
   "outputs": [],
   "source": [
    "def float2binary(parent, nvar, ndec=2, chromosome_size=11):\n",
    "    \"\"\"\n",
    "    Converts each of the nvar values of the parent to binary of size \"chromosome_size\" and concatenates them\n",
    "    to 1 string\n",
    "    Args:\n",
    "        parent (list) - list of nvar floating values\n",
    "        nvar (int) - no. of variables, the size of parent\n",
    "        ndec (int) - max no. of decimal points of each values in parent\n",
    "        chromosome_size (int) - no. of bits to which each value in parent is converted\n",
    "    Return:\n",
    "        parent_bin (str) - binary no. string made by concatenating each value's binary equivalent\n",
    "    \"\"\"\n",
    "    parent_bin = \"\"\n",
    "    for i in range(nvar):\n",
    "        val = int(parent[i]*10**ndec) #converting from float to int, later will be converted back\n",
    "        binary = bin(val)[2:]\n",
    "        binary = \"0\"*(chromosome_size-len(binary)) + binary\n",
    "        parent_bin = parent_bin + binary\n",
    "    return parent_bin\n",
    "def binary2float(child, nvar, ndec=2, chromosome_size=11):\n",
    "    \"\"\"\n",
    "    Converts the child string to nvar float values by reversin the effect of float2binary\n",
    "    Args:\n",
    "        child (str) - binary no. string made by concatenating each value's binary equivalent,\n",
    "                     size - nvar*chromosome_size\n",
    "        nvar (int) - no. of variables whose binary are concatenated in child\n",
    "        ndec (int) - max no. of decimal points of each values \n",
    "        chromosome_size (int) - no. of bits of each value in child\n",
    "    Return:\n",
    "        child (list) - list of nvar floating values\n",
    "    \"\"\"\n",
    "    child_float = []\n",
    "    \n",
    "    for i in range(nvar):\n",
    "        val = child[i*chromosome_size:(i+1)*chromosome_size]\n",
    "        val = int(val, 2)/10**ndec    #converting to float, reversing the effect of binary conversion\n",
    "        child_float.append(val)\n",
    "        \n",
    "    return child_float"
   ]
  },
  {
   "cell_type": "code",
<<<<<<< HEAD
   "execution_count": 5,
=======
<<<<<<< HEAD
   "execution_count": 4,
=======
   "execution_count": 75,
>>>>>>> parent of d622071... updated assnmnt2
>>>>>>> 2494959... Revert "updated assnmnt2"
   "metadata": {},
   "outputs": [
    {
     "data": {
      "text/plain": [
       "[2.0, 3.0, 10.0]"
      ]
     },
<<<<<<< HEAD
     "execution_count": 5,
=======
<<<<<<< HEAD
     "execution_count": 4,
=======
     "execution_count": 75,
>>>>>>> parent of d622071... updated assnmnt2
>>>>>>> 2494959... Revert "updated assnmnt2"
     "metadata": {},
     "output_type": "execute_result"
    }
   ],
   "source": [
    "#verify correctness\n",
    "binary2float(float2binary([2.0,3.0,10.0],3,0,4),3,0,4) "
   ]
  },
  {
   "cell_type": "code",
<<<<<<< HEAD
   "execution_count": 6,
=======
<<<<<<< HEAD
   "execution_count": 5,
=======
   "execution_count": 36,
>>>>>>> parent of d622071... updated assnmnt2
>>>>>>> 2494959... Revert "updated assnmnt2"
   "metadata": {},
   "outputs": [],
   "source": [
    "def initialize_population(npop, nvar = 2, var_range = [(0,10), (0,20)], ndecimal = 2, seed = 0):\n",
    "    \"\"\"Initializes population and returns it\n",
    "    Args:\n",
    "        npop (int)- population size\n",
    "        nvar (int)- no. of variables in the problem\n",
    "        var_range (list) - a list of tuples, where ith tuple is the range of values ith variable takes\n",
    "        ndecimal (int)- max no. digits after decimal points the variables can take, helps in converting to binary\n",
    "        seed (int)- numpy random seed \n",
    "    Return:\n",
    "        initial_pop (2d-array of size (npop,nvar)) - ith row corresponsds to ith member in population\n",
    "                                                            which is a list of nvar values\n",
    "    \"\"\"\n",
    "    np.random.seed(seed)\n",
    "    initial_pop = []\n",
    "    for i in range(nvar):\n",
    "        var_size = var_range[i]\n",
    "        new_member = np.around(np.random.uniform(var_size[0], var_size[1], (1,npop)), 2)\n",
    "        initial_pop.append(new_member)\n",
    "    initial_pop = np.array(initial_pop).T\n",
    "    return initial_pop.squeeze()"
   ]
  },
  {
   "cell_type": "code",
<<<<<<< HEAD
   "execution_count": 7,
=======
<<<<<<< HEAD
   "execution_count": 6,
=======
   "execution_count": 22,
>>>>>>> parent of d622071... updated assnmnt2
>>>>>>> 2494959... Revert "updated assnmnt2"
   "metadata": {},
   "outputs": [],
   "source": [
    "np.random.seed(0)\n",
    "a = np.random.uniform(0, 10, (1,5))\n",
    "b = np.random.uniform(0, 20, (1,5))\n",
    "c = np.append(a,b,axis = 0).T"
   ]
  },
  {
   "cell_type": "code",
<<<<<<< HEAD
   "execution_count": 8,
=======
<<<<<<< HEAD
   "execution_count": 7,
=======
   "execution_count": 23,
>>>>>>> parent of d622071... updated assnmnt2
>>>>>>> 2494959... Revert "updated assnmnt2"
   "metadata": {},
   "outputs": [
    {
     "data": {
      "text/plain": [
       "array([[5.48813504, 7.15189366, 6.02763376, 5.44883183, 4.23654799]])"
      ]
     },
<<<<<<< HEAD
     "execution_count": 8,
=======
<<<<<<< HEAD
     "execution_count": 7,
=======
     "execution_count": 23,
>>>>>>> parent of d622071... updated assnmnt2
>>>>>>> 2494959... Revert "updated assnmnt2"
     "metadata": {},
     "output_type": "execute_result"
    }
   ],
   "source": [
    "a"
   ]
  },
  {
   "cell_type": "code",
<<<<<<< HEAD
   "execution_count": 9,
=======
<<<<<<< HEAD
   "execution_count": 8,
=======
   "execution_count": 24,
>>>>>>> parent of d622071... updated assnmnt2
>>>>>>> 2494959... Revert "updated assnmnt2"
   "metadata": {},
   "outputs": [
    {
     "data": {
      "text/plain": [
       "array([[12.91788226,  8.75174423, 17.83546002, 19.27325521,  7.66883038]])"
      ]
     },
<<<<<<< HEAD
     "execution_count": 9,
=======
<<<<<<< HEAD
     "execution_count": 8,
=======
     "execution_count": 24,
>>>>>>> parent of d622071... updated assnmnt2
>>>>>>> 2494959... Revert "updated assnmnt2"
     "metadata": {},
     "output_type": "execute_result"
    }
   ],
   "source": [
    "b"
   ]
  },
  {
   "cell_type": "code",
<<<<<<< HEAD
   "execution_count": 10,
=======
<<<<<<< HEAD
   "execution_count": 9,
=======
   "execution_count": 25,
>>>>>>> parent of d622071... updated assnmnt2
>>>>>>> 2494959... Revert "updated assnmnt2"
   "metadata": {},
   "outputs": [
    {
     "data": {
      "text/plain": [
       "array([[ 5.48813504, 12.91788226],\n",
       "       [ 7.15189366,  8.75174423],\n",
       "       [ 6.02763376, 17.83546002],\n",
       "       [ 5.44883183, 19.27325521],\n",
       "       [ 4.23654799,  7.66883038]])"
      ]
     },
<<<<<<< HEAD
     "execution_count": 10,
=======
<<<<<<< HEAD
     "execution_count": 9,
=======
     "execution_count": 25,
>>>>>>> parent of d622071... updated assnmnt2
>>>>>>> 2494959... Revert "updated assnmnt2"
     "metadata": {},
     "output_type": "execute_result"
    }
   ],
   "source": [
    "c"
   ]
  },
  {
   "cell_type": "code",
<<<<<<< HEAD
   "execution_count": 11,
=======
<<<<<<< HEAD
   "execution_count": 10,
=======
   "execution_count": 37,
>>>>>>> parent of d622071... updated assnmnt2
>>>>>>> 2494959... Revert "updated assnmnt2"
   "metadata": {},
   "outputs": [
    {
     "data": {
      "text/plain": [
       "array([[ 5.49, 12.92],\n",
       "       [ 7.15,  8.75],\n",
       "       [ 6.03, 17.84],\n",
       "       [ 5.45, 19.27],\n",
       "       [ 4.24,  7.67]])"
      ]
     },
<<<<<<< HEAD
     "execution_count": 11,
=======
<<<<<<< HEAD
     "execution_count": 10,
=======
     "execution_count": 37,
>>>>>>> parent of d622071... updated assnmnt2
>>>>>>> 2494959... Revert "updated assnmnt2"
     "metadata": {},
     "output_type": "execute_result"
    }
   ],
   "source": [
    "initialize_population(5)"
   ]
  },
  {
   "cell_type": "code",
<<<<<<< HEAD
   "execution_count": 12,
=======
<<<<<<< HEAD
   "execution_count": 11,
=======
   "execution_count": 41,
>>>>>>> parent of d622071... updated assnmnt2
>>>>>>> 2494959... Revert "updated assnmnt2"
   "metadata": {},
   "outputs": [],
   "source": [
    "def tournament_selection(npop, rank):\n",
    "    \"\"\"\n",
    "    Selects a parent for mating besed on touranment selection\n",
    "    Args:\n",
    "        npop (int)- population size\n",
    "        rank (dict) - a dictionary containing the ranks of each member from current population\n",
    "    \"\"\"\n",
    "    parent1 = np.random.randint(0, npop)\n",
    "    parent2 = np.random.randint(0, npop)\n",
    "    \n",
    "    return (parent1 if rank[parent1]<rank[parent2] else parent2)"
   ]
  },
  {
   "cell_type": "code",
<<<<<<< HEAD
   "execution_count": 13,
=======
<<<<<<< HEAD
   "execution_count": 12,
=======
   "execution_count": 114,
>>>>>>> parent of d622071... updated assnmnt2
>>>>>>> 2494959... Revert "updated assnmnt2"
   "metadata": {},
   "outputs": [],
   "source": [
    "def crossover(parent1, parent2, nvar=2, ndec=2, prob = 0.85, chromosome_size = 11):\n",
    "    \"\"\"\n",
    "    Perfroms two point genetic crossover and returns the new children\n",
    "    NOTE - Does not apply bouds to new child here!\n",
    "    \n",
    "    Args:\n",
    "        parent1, parent2 (list) - parents each containing nvar values\n",
    "        ndec (int) - max no. of decimal points in values contained in parents\n",
    "        prob (float) - the probabilty for doing crossover\n",
    "        chromosome_size (int)- the size of the binary equivalent of largest no. in var_size \n",
    "    Return:\n",
    "        child1, child2 (list)\n",
    "    \"\"\"\n",
    "    parent1_ = float2binary(parent1, nvar, ndec, chromosome_size)\n",
    "    parent2_ = float2binary(parent2, nvar, ndec, chromosome_size)\n",
    "    \n",
    "    crossover_point1 = np.random.randint(2,chromosome_size*nvar//2)\n",
    "    crossover_point2 = np.random.randint(1+chromosome_size*nvar//2, chromosome_size*nvar-1)\n",
    "    if np.random.rand()<=prob:\n",
    "        child1 = parent1_[:crossover_point1] + parent2_[crossover_point1:crossover_point2] + parent1_[crossover_point2:]\n",
    "        child2 = parent2_[:crossover_point1] + parent1_[crossover_point1:crossover_point2] + parent2_[crossover_point2:]\n",
    "        \n",
    "        child1 = binary2float(child1, nvar, ndec, chromosome_size)\n",
    "        child2 = binary2float(child2, nvar, ndec, chromosome_size)\n",
    "        return child1, child2\n",
    "    return parent1, parent2"
   ]
  },
  {
   "cell_type": "code",
<<<<<<< HEAD
   "execution_count": 14,
=======
<<<<<<< HEAD
   "execution_count": 13,
=======
   "execution_count": 115,
>>>>>>> parent of d622071... updated assnmnt2
>>>>>>> 2494959... Revert "updated assnmnt2"
   "metadata": {},
   "outputs": [
    {
     "data": {
      "text/plain": [
       "Text(0.5, 1.0, 'Distribution of values taken after crossover of above parents')"
      ]
     },
<<<<<<< HEAD
     "execution_count": 14,
=======
<<<<<<< HEAD
     "execution_count": 13,
=======
     "execution_count": 115,
>>>>>>> parent of d622071... updated assnmnt2
>>>>>>> 2494959... Revert "updated assnmnt2"
     "metadata": {},
     "output_type": "execute_result"
    },
    {
     "data": {
      "image/png": "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\n",
      "text/plain": [
       "<Figure size 432x288 with 1 Axes>"
      ]
     },
     "metadata": {
      "needs_background": "light"
     },
     "output_type": "display_data"
    }
   ],
   "source": [
    "for i in range(50):\n",
    "    x,y = (crossover([5.63, 11.53], [1.56, 7.94]))\n",
    "    plt.scatter(x[0], x[1])\n",
    "    plt.scatter(y[0], y[1])\n",
    "plt.title(\"Distribution of values taken after crossover of above parents\")"
   ]
  },
  {
   "cell_type": "code",
<<<<<<< HEAD
   "execution_count": 15,
=======
<<<<<<< HEAD
   "execution_count": 14,
=======
   "execution_count": 146,
>>>>>>> parent of d622071... updated assnmnt2
>>>>>>> 2494959... Revert "updated assnmnt2"
   "metadata": {},
   "outputs": [],
   "source": [
    "def mutation(child, nvar = 2, ndec = 2, chromosome_size = 11, mutRate = 0.005):\n",
    "    \"\"\"\n",
    "    Performs mutation on the child by converting it to binary and flipping each bit on prob = mutRate\n",
    "    NOTE - Does not do applyBounds\n",
    "    \"\"\"\n",
    "    childBin = float2binary(child, nvar = 2, ndec = 2, chromosome_size = 11)\n",
    "    flip = np.int32(np.random.randn(chromosome_size*nvar)<=mutRate)\n",
    "    mutChild = ''\n",
    "    \n",
    "    for i in range(chromosome_size*nvar):\n",
    "        mutChild = mutChild + flipBit(childBin[i], flip[i])\n",
    "    mutChild = binary2float(mutChild, nvar, ndec, chromosome_size)\n",
    "    return mutChild"
   ]
  },
  {
   "cell_type": "code",
<<<<<<< HEAD
   "execution_count": 16,
=======
<<<<<<< HEAD
   "execution_count": 15,
=======
   "execution_count": 161,
>>>>>>> parent of d622071... updated assnmnt2
>>>>>>> 2494959... Revert "updated assnmnt2"
   "metadata": {},
   "outputs": [
    {
     "data": {
      "text/plain": [
       "[7.85, 14.82]"
      ]
     },
<<<<<<< HEAD
     "execution_count": 16,
=======
<<<<<<< HEAD
     "execution_count": 15,
=======
     "execution_count": 161,
>>>>>>> parent of d622071... updated assnmnt2
>>>>>>> 2494959... Revert "updated assnmnt2"
     "metadata": {},
     "output_type": "execute_result"
    }
   ],
   "source": [
    "mutation([8.63,19.56])"
   ]
  },
  {
   "cell_type": "code",
<<<<<<< HEAD
   "execution_count": 17,
=======
<<<<<<< HEAD
   "execution_count": 16,
>>>>>>> 2494959... Revert "updated assnmnt2"
   "metadata": {},
   "outputs": [],
   "source": [
    "def crowdingDistSorting(children, population):\n",
    "    \"\"\"\n",
    "    Sorts the chldren belonging to population acc. to the crowding distance sorting\n",
    "    NOTE - Works only for 2 obective functions\n",
    "    Args:\n",
    "        Children (2D array of size (?,nvar)) - the subset of population belonging to a particular pareto \n",
    "                                                which needs to be sorted\n",
    "        Population (2D array of size (npop, nvar)) - the current population\n",
    "    Returns : Sorted Children\n",
    "    \"\"\"\n",
    "    \n",
    "    \n",
    "    costValArray = convert2objective(population)\n",
    "\n",
    "    Smax, Tmax = np.max(costValArray, axis = 0)  #surfaceArea, TotalArea\n",
    "    Smin, Tmin = np.min(costValArray, axis = 0)\n",
    "\n",
    "    tmpCrowd = []\n",
    "    \n",
    "    tmp = np.copy(children)\n",
    "    #assign inf distance to the extreme points corresponding to all objective functions\n",
    "    tmp = sorted(children, key=lambda x:lateralSA(population[x][0], population[x][1]))\n",
    "    tmpCrowd.append((tmp[0] ,float('inf')))\n",
    "    tmpCrowd.append((tmp[-1], float('inf')))\n",
    "    min1 = tmp[0]\n",
    "    max1 = tmp[-1]\n",
    "    \n",
    "    tmp = sorted(children, key=lambda x:totalSA(population[x][0], population[x][1]))\n",
    "    tmpCrowd.append([tmp[0] ,float('inf')])\n",
    "    tmpCrowd.append([tmp[-1], float('inf')])\n",
    "    min2 = tmp[0]\n",
    "    max2 = tmp[-1]\n",
    "    \n",
    "    extremes = {min1, min2, max1, max2}\n",
    "    for idx, val in enumerate(tmp):\n",
    "        if val in extremes:\n",
    "            pass\n",
    "        else:\n",
    "            dist = abs(lateralSA(population[tmp[idx+1]][0], population[tmp[idx+1]][1])-\n",
    "                    lateralSA(population[tmp[idx-1]][0], population[tmp[idx-1]][1]))/(Smax-Smin)+abs(\n",
    "                    totalSA(population[tmp[idx+1]][0], population[tmp[idx+1]][1]) - \n",
    "                    totalSA(population[tmp[idx-1]][0], population[tmp[idx-1]][1]))/(Tmax-Tmin)\n",
    "\n",
    "            tmpCrowd.append([val, dist])\n",
    "    \n",
    "    tmpCrowd = np.array(tmpCrowd)\n",
    "    newChildren = np.array(sorted(tmpCrowd, key = lambda x:x[1], reverse=True)).squeeze()\n",
    "    newChildren = newChildren[:,0]\n",
    "    idx = np.unique(newChildren, return_index = True)[1]\n",
    "    newChildren = [newChildren[i] for i in sorted(idx)]\n",
    "    return np.int32(newChildren)"
   ]
  },
  {
   "cell_type": "code",
   "execution_count": 18,
   "metadata": {},
   "outputs": [
    {
     "data": {
      "text/plain": [
       "array([[116.66, 173.07],\n",
       "       [356.66, 470.86],\n",
       "       [242.1 , 336.76],\n",
       "       [254.06, 414.82],\n",
       "       [343.  , 436.32]])"
      ]
     },
     "execution_count": 18,
     "metadata": {},
     "output_type": "execute_result"
    }
   ],
   "source": [
    "a = crowdingDistSorting([0,3,4,1,2], c)\n",
    "a = c[a]\n",
    "b = convert2objective(a)\n",
    "b"
   ]
  },
  {
   "cell_type": "code",
   "execution_count": 19,
   "metadata": {},
   "outputs": [
    {
     "data": {
      "text/plain": [
       "<matplotlib.collections.PathCollection at 0x7f9e1c85b790>"
      ]
     },
     "execution_count": 19,
     "metadata": {},
     "output_type": "execute_result"
    },
    {
     "data": {
      "image/png": "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\n",
      "text/plain": [
       "<Figure size 432x288 with 1 Axes>"
      ]
     },
     "metadata": {
      "needs_background": "light"
     },
     "output_type": "display_data"
    }
   ],
   "source": [
    "plt.scatter(lateralSA(c[:,0],c[:,1]), totalSA(c[:,0], c[:,1]))"
   ]
  },
  {
   "cell_type": "markdown",
   "metadata": {},
   "source": [
    "Clearly the points which are farthest come first in the list printed above, stored in \"b\""
   ]
  },
  {
   "cell_type": "code",
   "execution_count": 20,
   "metadata": {},
   "outputs": [],
   "source": [
    "def atLeast1dominate(front, x):\n",
    "    \"\"\"\n",
    "    Checks wheather atleast one soln in front dominates soln x\n",
    "    Args:\n",
    "        front (list) - list of soln(with cost values) belonging to a front\n",
    "        x (array) - a solution containing the cost values\n",
    "    Returns:\n",
    "        True/ False\n",
    "    \"\"\"\n",
    "    if True in [(i<x).all() for i in front]:\n",
    "        return True\n",
    "    return False\n",
    "def findFront(idx, paretoFronts, costs):\n",
    "    \"\"\"\n",
    "    Returns the front to which the solution[idx] belongs, and simultaneously updates the Pareto front\n",
    "    Args:\n",
    "        idx (int) - the index of the solution whose front no. is to be found\n",
    "        paretoFronts (dict) - the current paretoFronts, to be updated too.\n",
    "        costs (2D array)- the cost values array corresponding the current population sorted to descending\n",
    "                            order of 1 cost function (here lateralSA)\n",
    "    Return:\n",
    "        front (int) - the front no. to which soln[idx] belongs\n",
    "    Update:\n",
    "        paretoFronts (dict) - assigns idx to ParetoFronts[front]\n",
    "    \"\"\"\n",
    "    l = len(paretoFronts)\n",
    "    if l==0:\n",
    "        paretoFronts[1] = [idx]\n",
    "        return 1\n",
    "    for i in paretoFronts:\n",
    "        front = paretoFronts[i]\n",
    "        if atLeast1dominate([costs[t] for t in front], costs[idx])==False:\n",
    "            paretoFronts[i].append(idx)\n",
    "            return idx\n",
    "    paretoFronts[l+1] = [idx]\n",
    "    return l+1\n",
    "def nonDominatedSorting(population):\n",
    "    \"\"\"\n",
    "    Perfroms non-dominated sorting on the population and returns the pareto front, along with the population \n",
    "    sorted in escending order of lateralSA \n",
    "    NOTE - crowding distance sorting not applied here\n",
    "    \"\"\"\n",
    "    nvar = population.shape[1]\n",
    "    npop = population.shape[0]\n",
    "    \n",
    "    populationSorted = np.array(sorted(population, key = lambda x:lateralSA(x[0],x[1])))\n",
    "    costs = convert2objective(populationSorted)\n",
    "    paretoFronts = {}\n",
    "    \n",
    "    for i in range(npop):\n",
    "        findFront(i, paretoFronts, costs)\n",
    "    return paretoFronts, populationSorted\n",
    "\n",
    "def updateRank(paretoFronts):\n",
    "    \"\"\"\n",
    "    Returns the updated rank of each solution\n",
    "    Args:\n",
    "        paretoFronts (dict) - current pareto fronts\n",
    "    Return:\n",
    "        rank (dict) - rank of each solution idx\n",
    "    \"\"\"\n",
    "    ranks = {}\n",
    "    r = 1\n",
    "    for front in paretoFronts:\n",
    "        for idx in paretoFronts[front]:\n",
    "            ranks[idx] = r\n",
    "            r+=1\n",
    "    return ranks\n",
    "def updatePopulation(population, paretoFronts, npop):\n",
    "    newPop = []\n",
    "    if len(population)<=npop:\n",
    "        return population\n",
    "    count=0\n",
    "    flag = 0\n",
    "    for front in paretoFronts:\n",
    "        if flag==1:\n",
    "            break\n",
    "        for x in paretoFronts[front]:\n",
    "            if count>=npop:\n",
    "                flag=1\n",
    "                break\n",
    "            newPop.append(population[x])\n",
    "            count+=1\n",
    "    return np.array(newPop)"
   ]
  },
  {
   "cell_type": "code",
   "execution_count": 21,
   "metadata": {},
   "outputs": [],
   "source": [
    "pop = np.array([[4.96, 4.99, 6.09, 6.91, 5.20, 5.21], [0.60, 5.10, 0.79, 10.62, 18.86, 18.87]]).T"
   ]
  },
  {
   "cell_type": "code",
   "execution_count": 22,
   "metadata": {},
   "outputs": [],
   "source": [
    "fronts, pop_ = nonDominatedSorting(pop)"
   ]
  },
  {
   "cell_type": "code",
   "execution_count": 23,
   "metadata": {},
   "outputs": [
    {
     "data": {
      "text/plain": [
       "{1: [0], 2: [1], 3: [2], 4: [3, 4], 5: [5]}"
      ]
     },
     "execution_count": 23,
     "metadata": {},
     "output_type": "execute_result"
    }
   ],
   "source": [
    "fronts"
   ]
  },
  {
   "cell_type": "code",
   "execution_count": 24,
   "metadata": {},
   "outputs": [
    {
     "data": {
      "text/plain": [
       "array([[ 4.96,  0.6 ],\n",
       "       [ 4.99,  5.1 ],\n",
       "       [ 6.09,  0.79],\n",
       "       [ 6.91, 10.62],\n",
       "       [ 5.2 , 18.86],\n",
       "       [ 5.21, 18.87]])"
      ]
     },
     "execution_count": 24,
     "metadata": {},
     "output_type": "execute_result"
    }
   ],
   "source": [
    "pop_"
   ]
  },
  {
   "cell_type": "code",
   "execution_count": 25,
   "metadata": {},
   "outputs": [
    {
     "data": {
      "text/plain": [
       "array([[ 77.89, 155.21],\n",
       "       [111.9 , 190.17],\n",
       "       [117.54, 234.11],\n",
       "       [275.17, 425.24],\n",
       "       [319.74, 404.73],\n",
       "       [320.56, 405.87]])"
      ]
     },
     "execution_count": 25,
     "metadata": {},
     "output_type": "execute_result"
    }
   ],
   "source": [
    "convert2objective(pop_)"
   ]
  },
  {
   "cell_type": "code",
   "execution_count": 26,
   "metadata": {},
   "outputs": [
    {
     "data": {
      "text/plain": [
       "{0: 1, 1: 2, 2: 3, 3: 4, 4: 5, 5: 6}"
      ]
     },
     "execution_count": 26,
     "metadata": {},
     "output_type": "execute_result"
    }
   ],
   "source": [
    "updateRank(fronts)"
   ]
  },
  {
   "cell_type": "markdown",
   "metadata": {},
   "source": [
    "As seen above the fronts are consistent with the cost function values"
   ]
  },
  {
   "cell_type": "markdown",
   "metadata": {},
   "source": [
    "## NSGA II"
   ]
  },
  {
   "cell_type": "code",
   "execution_count": 27,
   "metadata": {},
   "outputs": [],
   "source": [
    "def NSGA2(npop = 6, nvar = 2, niter = 100, var_range = [(0,10), (0,20)], constraintLimit = 200, seed = 0):\n",
    "    \"\"\"\n",
    "    Combines the above functions to implement the algorithm NSGA II\n",
    "    Returns the final solution population and the pareto front \n",
    "    \"\"\"\n",
    "    #initialization\n",
    "    population = initialize_population(npop, nvar, var_range, seed)\n",
    "    paretoFronts, population = nonDominatedSorting(population)\n",
    "    rank = updateRank(paretoFronts)\n",
    "    \n",
    "    for i in range(niter):\n",
    "        for j in range(npop//2):\n",
    "            #selection\n",
    "            p1 = tournament_selection(npop, rank)\n",
    "            p2 = tournament_selection(npop, rank)\n",
    "            #crossover & mutaion\n",
    "            c1, c2 = crossover(population[p1], population[p2])\n",
    "            c1, c2 = mutation(c1), mutation(c2)\n",
    "            #applying bounds and constraints\n",
    "            c1, c2 = applyBounds(c1), applyBounds(c2)\n",
    "            c1, c2 = applyConstraint(c1, constraintLimit), applyConstraint(c2, constraintLimit)\n",
    "            #adding childrent to the population\n",
    "            population = np.append(population, np.array([c1,c2]), axis = 0)\n",
    "        \n",
    "        paretoFronts, population = nonDominatedSorting(population)\n",
    "        for front in paretoFronts:\n",
    "            if len(paretoFronts[front])>1:\n",
    "                paretoFronts[front] = crowdingDistSorting(paretoFronts[front], population)\n",
    "        rank = updateRank(paretoFronts)\n",
    "        population = updatePopulation(population,paretoFronts, npop)\n",
    "        paretoFronts, population = nonDominatedSorting(population)\n",
    "    return paretoFronts, population"
   ]
  },
  {
   "cell_type": "code",
   "execution_count": 32,
   "metadata": {},
   "outputs": [],
   "source": [
    "f, p = NSGA2(npop=10, niter = 500)"
   ]
  },
  {
   "cell_type": "code",
   "execution_count": 29,
   "metadata": {},
   "outputs": [
    {
     "data": {
      "text/plain": [
       "<matplotlib.collections.PathCollection at 0x7f9e1c7cb790>"
      ]
     },
     "execution_count": 29,
     "metadata": {},
     "output_type": "execute_result"
    },
    {
     "data": {
      "image/png": "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\n",
      "text/plain": [
       "<Figure size 432x288 with 1 Axes>"
      ]
     },
     "metadata": {
      "needs_background": "light"
     },
     "output_type": "display_data"
    }
   ],
   "source": [
    "plt.scatter(convert2objective(p).T[0], convert2objective(p).T[1]) "
   ]
  },
  {
   "cell_type": "code",
   "execution_count": 30,
   "metadata": {},
   "outputs": [
    {
     "data": {
      "text/plain": [
       "{1: [0], 2: [1], 3: [2, 3, 5], 4: [4, 6, 8], 5: [7, 9]}"
      ]
     },
     "execution_count": 30,
     "metadata": {},
     "output_type": "execute_result"
    }
   ],
   "source": [
    "f"
   ]
  },
  {
   "cell_type": "code",
   "execution_count": 31,
   "metadata": {},
   "outputs": [
    {
     "data": {
      "text/plain": [
       "array([[ 4.24,  1.42],\n",
       "       [ 4.38,  0.4 ],\n",
       "       [ 6.46,  1.74],\n",
       "       [ 5.85,  5.85],\n",
       "       [ 6.1 ,  6.05],\n",
       "       [ 3.72, 14.02],\n",
       "       [ 4.1 , 12.63],\n",
       "       [ 4.95,  9.86],\n",
       "       [ 3.6 , 15.38],\n",
       "       [ 3.27, 18.43]])"
      ]
     },
     "execution_count": 31,
     "metadata": {},
     "output_type": "execute_result"
    }
   ],
   "source": [
    "p"
   ]
  },
  {
   "cell_type": "code",
   "execution_count": 33,
   "metadata": {},
   "outputs": [
    {
     "data": {
      "text/plain": [
       "array([[ 59.59, 116.09],\n",
       "       [ 60.55, 120.84],\n",
       "       [135.84, 267.  ],\n",
       "       [144.23, 227.27],\n",
       "       [146.73, 228.16],\n",
       "       [147.04, 237.67],\n",
       "       [152.25, 210.64],\n",
       "       [155.07, 215.09],\n",
       "       [158.13, 209.43],\n",
       "       [167.73, 211.69]])"
      ]
     },
     "execution_count": 33,
     "metadata": {},
     "output_type": "execute_result"
    }
   ],
   "source": [
    "convert2objective(p)"
   ]
  },
  {
   "cell_type": "code",
   "execution_count": 34,
   "metadata": {
    "scrolled": false
   },
   "outputs": [
    {
     "data": {
      "text/plain": [
       "array([ 26.74503582,   8.03954256,  76.0742029 , 202.05622015,\n",
       "       207.10149261, 207.25060805, 202.01100076, 208.27480175,\n",
       "       201.43324402, 201.79029301])"
      ]
     },
     "execution_count": 34,
     "metadata": {},
     "output_type": "execute_result"
    }
   ],
   "source": [
    "volume(p[:,0], p[:,1])"
   ]
  },
  {
   "cell_type": "code",
=======
>>>>>>> parent of d622071... updated assnmnt2
   "execution_count": null,
   "metadata": {},
   "outputs": [],
   "source": []
  }
 ],
 "metadata": {
  "kernelspec": {
   "display_name": "Python 3",
   "language": "python",
   "name": "python3"
  },
  "language_info": {
   "codemirror_mode": {
    "name": "ipython",
    "version": 3
   },
   "file_extension": ".py",
   "mimetype": "text/x-python",
   "name": "python",
   "nbconvert_exporter": "python",
   "pygments_lexer": "ipython3",
   "version": "3.7.7"
  }
 },
 "nbformat": 4,
 "nbformat_minor": 4
}
