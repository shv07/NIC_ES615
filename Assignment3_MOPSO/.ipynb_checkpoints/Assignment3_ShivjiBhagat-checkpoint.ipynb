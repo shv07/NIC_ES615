{
 "cells": [
  {
   "cell_type": "markdown",
   "metadata": {},
   "source": [
    "# Portfolio Optimization using MOPSO"
   ]
  },
  {
   "cell_type": "markdown",
   "metadata": {},
   "source": [
    "## Problem Statement\n",
    "Assume that you are a financial consultant and you have to create a portfolio for your client. You have two objectives: \n",
    "1. Maximize the expected return of the portfolio\n",
    "2. Minimize the risk associated with the portfolio <br>"
   ]
  },
  {
   "cell_type": "markdown",
   "metadata": {},
   "source": [
    "In the attached file, the data of 20 stocks from 4 different industries is provided. <br>\n",
    "Since diversification helps in minimizing risk, two constraints are imposed on the weights associated with each stock in the portfolio. First, to reduce emphasize on a particular stock, each stock must account for no more than 15% of the total portfolio. In addition, the proportion of an industry must not exceed 40% of the total portfolio.<br> \n",
    "Use the MOPSO algorithm to make appropriate investment suggestion. Show the transitions of Pareto fronts over iterations in a YouTube video.<br>\n",
    "<a href=\"https://drive.google.com/open?id=1qLS5UUMQ6RlpyVfpEW0ZWbFOQi331j8q&authuser=0\">Stock_Information.xls</a>"
   ]
  },
  {
   "cell_type": "code",
   "execution_count": 1,
   "metadata": {},
   "outputs": [],
   "source": [
    "import pandas as pd\n",
    "import numpy as np\n",
    "import matplotlib.pyplot as plt"
   ]
  },
  {
   "cell_type": "code",
   "execution_count": 39,
   "metadata": {},
   "outputs": [],
   "source": [
    "def read_csv(filpath):\n",
    "    \"\"\"\n",
    "    Reads the 3 tables from the given fil path and returns as 3 pandas data frame, \n",
    "    for the above given stock information\n",
    "    \"\"\"\n",
    "    df = pd.read_csv(\"./Stock_information - Sheet1.csv\")\n",
    "    industry = df.iloc[:5, :2]\n",
    "    stocksData = df.iloc[7:10,:]\n",
    "    covarianceMatrix = df.iloc[15:,:]\n",
    "    \n",
    "    stocksData = np.array(stocksData.iloc[1:,1:])\n",
    "    covarianceMatrix = np.array(covarianceMatrix.iloc[1:,1:])\n",
    "    return (industry, stocksData, covarianceMatrix)"
   ]
  },
  {
   "cell_type": "code",
   "execution_count": 13,
   "metadata": {},
   "outputs": [],
   "source": [
    "#cost_functions\n",
    "def evalExpectedReturn(weights, expectedReturns):\n",
    "    \"\"\"\n",
    "    Evaluates the expected return of the portfolio using the given weights and expected returns\n",
    "    of each asset\n",
    "    Arg:\n",
    "        weights (array) - array of size (1, nAssets) of weight assosciated with each asset\n",
    "        expected return (array) - array of size (1, nAssests) of expected return of each asset\n",
    "    Return:\n",
    "        Expected return of the portfolio (float)\n",
    "    \"\"\"\n",
    "    \n",
    "    weights = np.array(weights).reshape(1,-1)\n",
    "    expectedReturns = np.array(expectedReturns).reshape(1,-1)\n",
    "    return np.dot(expectedReturns, weights.T).squeeze() + 0 #+0 to convert to real no. instead of array\n",
    "\n",
    "\n",
    "def evalRisk(weights, variance, covariance):\n",
    "    \"\"\"\n",
    "    Returns the risk associated with the portfolio (float)\n",
    "    Args:\n",
    "        weights - for each stock, shape\n",
    "        variance - for each stock\n",
    "        covariance -for all stock combination in format   A1..A5 B1..D1..D5\n",
    "                                                        A1 .   .\n",
    "                                                        .\n",
    "                                                        .\n",
    "                                                        .\n",
    "                                                        D5\n",
    "    \"\"\"\n",
    "    weights, variance = np.array(weights).reshape(1,-1), np.array(variance).reshape(1,-1)\n",
    "    weightSqrd = np.power(weights, 2)\n",
    "    \n",
    "    weightsRepeated1 = np.repeat(weights, weights.shape[1],0)\n",
    "    weightsRepeated2 = np.repeat(weights.T, weights.shape[1],1)\n",
    "    \n",
    "    sdRepeated1 = np.repeat(np.sqrt(variance), variance.shape[1], 0)\n",
    "    sdRepeated2 = np.repeat(np.sqrt(variance.T), variance.shape[1], 1)\n",
    "    \n",
    "    riskSquared = np.dot(weightSqrd, variance.T).squeeze() + np.sum(covariance * weightsRepeated1 *\n",
    "                                                                    weightsRepeated2 * sdRepeated1 *\n",
    "                                                                    sdRepeated2)\n",
    "    return riskSquared**0.5\n"
   ]
  },
  {
   "cell_type": "code",
   "execution_count": 11,
   "metadata": {},
   "outputs": [
    {
     "name": "stdout",
     "output_type": "stream",
     "text": [
      "102.46999967098236 102.46999\n"
     ]
    }
   ],
   "source": [
    "#sanity check\n",
    "eR = np.float32(stocks_data.iloc[1:2, 1:])\n",
    "weights = np.ones((eR.shape))\n",
    "print(evalExpectedReturn(weights, eR), np.sum(eR))"
   ]
  },
  {
   "cell_type": "markdown",
   "metadata": {},
   "source": [
    "Both the values are same hence correct"
   ]
  },
  {
   "cell_type": "code",
   "execution_count": 14,
   "metadata": {},
   "outputs": [
    {
     "data": {
      "text/plain": [
       "5.477225575051661"
      ]
     },
     "execution_count": 14,
     "metadata": {},
     "output_type": "execute_result"
    }
   ],
   "source": [
    "#sanity check\n",
    "weights = np.ones((1,5))\n",
    "variance = np.ones((1,5))\n",
    "covar = np.ones((5,5))\n",
    "evalRisk(weights, variance, covar)"
   ]
  },
  {
   "cell_type": "markdown",
   "metadata": {},
   "source": [
    "should be equal to 30^0.5 = 5.477225575051661"
   ]
  },
  {
   "cell_type": "code",
   "execution_count": 24,
   "metadata": {},
   "outputs": [],
   "source": [
    "#constraints\n",
    "def applyConstraint(weights, constraint1=0.15, constraint2=0.4, nindustries=4, nstocks = 5):\n",
    "    \"\"\"\n",
    "    Applies the two constraints to the weights and modifies them, as mentioned in the problem\n",
    "    nindustries - total no. of industries \n",
    "    nstocks - total no. of stocks in each industry\n",
    "    \"\"\"\n",
    "    total = np.sum(weights)\n",
    "    weights = np.minimum(weights, constraint1*total)\n",
    "    \n",
    "    for i in range(nindustries-1):\n",
    "        if np.sum(weights[i*nstocks:(i+1)*nstocks])>constraint2*np.sum(weights):\n",
    "            for j in range(i*nstocks,(i+1)*nstocks):\n",
    "                weights[j]=constraint2*np.sum(weights)/nindustries\n",
    "    return weights\n",
    "#apply weight normalization\n",
    "def normalizeWeight(weights):\n",
    "    if np.sum(weights)!=1:\n",
    "        weights = weights/np.sum(weights)\n",
    "    return weights \n",
    "    "
   ]
  },
  {
   "cell_type": "code",
   "execution_count": 29,
   "metadata": {
    "scrolled": false
   },
   "outputs": [
    {
     "name": "stdout",
     "output_type": "stream",
     "text": [
      "[0.02092812 0.07734304 0.07006369 0.00545951 0.05914468 0.09008189\n",
      " 0.03184713 0.05277525 0.01455869 0.03730664 0.05186533 0.055505\n",
      " 0.04549591 0.08098271 0.03457689 0.08280255 0.01455869 0.05914468\n",
      " 0.04640582 0.06915378]\n",
      "[0.02092812 0.07734304 0.07006369 0.00545951 0.05914468 0.09008189\n",
      " 0.03184713 0.05277525 0.01455869 0.03730664 0.05186533 0.055505\n",
      " 0.04549591 0.08098271 0.03457689 0.08280255 0.01455869 0.05914468\n",
      " 0.04640582 0.06915378]\n",
      "[0.02092812 0.07734304 0.07006369 0.00545951 0.05914468 0.09008189\n",
      " 0.03184713 0.05277525 0.01455869 0.03730664 0.05186533 0.055505\n",
      " 0.04549591 0.08098271 0.03457689 0.08280255 0.01455869 0.05914468\n",
      " 0.04640582 0.06915378]\n",
      "[0.02092812 0.07734304 0.07006369 0.00545951 0.05914468 0.09008189\n",
      " 0.03184713 0.05277525 0.01455869 0.03730664 0.05186533 0.055505\n",
      " 0.04549591 0.08098271 0.03457689 0.08280255 0.01455869 0.05914468\n",
      " 0.04640582 0.06915378]\n"
     ]
    }
   ],
   "source": [
    "#sanity check\n",
    "a = normalizeWeight(np.around(np.random.rand(20), 2))\n",
    "b = applyConstraint(a)\n",
    "c = normalizeWeight(a)\n",
    "d = normalizeWeight(c)\n",
    "for i in [a,b,c,d]:\n",
    "    print(i)"
   ]
  },
  {
   "cell_type": "code",
   "execution_count": null,
   "metadata": {},
   "outputs": [],
   "source": []
  },
  {
   "cell_type": "code",
   "execution_count": null,
   "metadata": {},
   "outputs": [],
   "source": []
  }
 ],
 "metadata": {
  "kernelspec": {
   "display_name": "Python 3",
   "language": "python",
   "name": "python3"
  },
  "language_info": {
   "codemirror_mode": {
    "name": "ipython",
    "version": 3
   },
   "file_extension": ".py",
   "mimetype": "text/x-python",
   "name": "python",
   "nbconvert_exporter": "python",
   "pygments_lexer": "ipython3",
   "version": "3.7.7"
  }
 },
 "nbformat": 4,
 "nbformat_minor": 4
}
