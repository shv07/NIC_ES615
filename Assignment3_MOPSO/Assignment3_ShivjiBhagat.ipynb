{
 "cells": [
  {
   "cell_type": "markdown",
   "metadata": {},
   "source": [
    "# Portfolio Optimization using MOPSO"
   ]
  },
  {
   "cell_type": "markdown",
   "metadata": {},
   "source": [
    "## Problem Statement\n",
    "Assume that you are a financial consultant and you have to create a portfolio for your client. You have two objectives: \n",
    "1. Maximize the expected return of the portfolio\n",
    "2. Minimize the risk associated with the portfolio <br>"
   ]
  },
  {
   "cell_type": "markdown",
   "metadata": {},
   "source": [
    "In the attached file, the data of 20 stocks from 4 different industries is provided. <br>\n",
    "Since diversification helps in minimizing risk, two constraints are imposed on the weights associated with each stock in the portfolio. First, to reduce emphasize on a particular stock, each stock must account for no more than 15% of the total portfolio. In addition, the proportion of an industry must not exceed 40% of the total portfolio.<br> \n",
    "Use the MOPSO algorithm to make appropriate investment suggestion. Show the transitions of Pareto fronts over iterations in a YouTube video.<br>\n",
    "<a href=\"https://drive.google.com/open?id=1qLS5UUMQ6RlpyVfpEW0ZWbFOQi331j8q&authuser=0\">Stock_Information.xls</a>"
   ]
  },
  {
   "cell_type": "code",
   "execution_count": 1,
   "metadata": {},
   "outputs": [],
   "source": [
    "import pandas as pd\n",
    "import numpy as np\n",
    "import matplotlib.pyplot as plt\n",
    "from MOPSO import mopsoOptimizer\n",
    "from MOPSO import *"
   ]
  },
  {
   "cell_type": "code",
   "execution_count": 2,
   "metadata": {},
   "outputs": [],
   "source": [
    "def read_csv(filpath=\"./Stock_information.csv\"):\n",
    "    \"\"\"\n",
    "    Reads the 3 tables from the given fil path and returns as 3 pandas data frame, \n",
    "    for the above given stock information\n",
    "    \"\"\"\n",
    "    df = pd.read_csv(filpath)\n",
    "    industry = df.iloc[:5, :2]\n",
    "    stocksData = df.iloc[7:10,:]\n",
    "    covarianceMatrix = df.iloc[15:,:]\n",
    "    \n",
    "    stocksData = np.float32(stocksData.iloc[1:,1:])\n",
    "    covarianceMatrix = np.float32(covarianceMatrix.iloc[1:,1:])\n",
    "    return (industry, stocksData, covarianceMatrix)"
   ]
  },
  {
   "cell_type": "code",
   "execution_count": 3,
   "metadata": {},
   "outputs": [],
   "source": [
    "#get data\n",
    "industry, stocksData, covarianceMatrix = read_csv()\n",
    "ER = stocksData[0,:]\n",
    "variance = stocksData[1,:]"
   ]
  },
  {
   "cell_type": "code",
   "execution_count": 4,
   "metadata": {},
   "outputs": [],
   "source": [
    "#cost_functions\n",
    "def evalExpectedReturn(weights, expectedReturns=ER):\n",
    "    \"\"\"\n",
    "    Evaluates the expected return of the portfolio using the given weights and expected returns\n",
    "    of each asset\n",
    "    Arg:\n",
    "        weights (array) - array of size (1, nAssets) of weight assosciated with each asset\n",
    "        expected return (array) - array of size (1, nAssests) of expected return of each asset\n",
    "    Return:\n",
    "        Expected return of the portfolio (float)\n",
    "    \"\"\"\n",
    "    \n",
    "    weights = np.array(weights).reshape(1,-1)\n",
    "    expectedReturns = np.array(expectedReturns).reshape(1,-1)\n",
    "    return np.dot(expectedReturns, weights.T).squeeze() + 0 #+0 to convert to real no. instead of array\n",
    "\n",
    "\n",
    "def evalRisk(weights, variance=variance, covariance=covarianceMatrix):\n",
    "    \"\"\"\n",
    "    Returns the risk associated with the portfolio (float)\n",
    "    Args:\n",
    "        weights - for each stock, shape\n",
    "        variance - for each stock\n",
    "        covariance -for all stock combination in format   A1..A5 B1..D1..D5\n",
    "                                                        A1 .   .\n",
    "                                                        .\n",
    "                                                        .\n",
    "                                                        .\n",
    "                                                        D5\n",
    "    \"\"\"\n",
    "    weights, variance = np.array(weights).reshape(1,-1), np.array(variance).reshape(1,-1)\n",
    "    weightSqrd = np.power(weights, 2)\n",
    "    \n",
    "    weightsRepeated1 = np.repeat(weights, weights.shape[1],0)\n",
    "    weightsRepeated2 = np.repeat(weights.T, weights.shape[1],1)\n",
    "    \n",
    "    sdRepeated1 = np.repeat(np.sqrt(variance), variance.shape[1], 0)\n",
    "    sdRepeated2 = np.repeat(np.sqrt(variance.T), variance.shape[1], 1)\n",
    "    \n",
    "    riskSquared = np.dot(weightSqrd, variance.T).squeeze() + np.sum(covariance * weightsRepeated1 *\n",
    "                                                                    weightsRepeated2 * sdRepeated1 *\n",
    "                                                                    sdRepeated2)\n",
    "    return riskSquared**0.5\n"
   ]
  },
  {
   "cell_type": "code",
   "execution_count": 5,
   "metadata": {},
   "outputs": [],
   "source": [
    "#constraints\n",
    "def applyConstraint(weights, constraint1=0.15, constraint2=0.4, nindustries=4, nstocks = 5):\n",
    "    \"\"\"\n",
    "    Applies the two constraints to the weights and modifies them, as mentioned in the problem\n",
    "    nindustries - total no. of industries \n",
    "    nstocks - total no. of stocks in each industry\n",
    "    \"\"\"\n",
    "    total = np.sum(weights)\n",
    "    weights = np.minimum(weights, constraint1*total)\n",
    "    \n",
    "    for i in range(nindustries-1):\n",
    "        if np.sum(weights[i*nstocks:(i+1)*nstocks])>constraint2*np.sum(weights):\n",
    "            for j in range(i*nstocks,(i+1)*nstocks):\n",
    "                weights[j]=constraint2*np.sum(weights)/nindustries\n",
    "    return weights\n",
    "#apply weight normalization\n",
    "def normalizeWeight(weights):\n",
    "    if np.sum(weights)!=1:\n",
    "        weights = weights/(np.sum(weights)+0.000001)\n",
    "    return weights \n",
    "    "
   ]
  },
  {
   "cell_type": "code",
   "execution_count": 6,
   "metadata": {},
   "outputs": [],
   "source": [
    "##*******************************   Main.py    ***************************************## \n",
    "\n",
    "#PSO parameters\n",
    "npop = 50\n",
    "c1,c2 = 1.494, 1.494\n",
    "w = 1\n",
    "wdamp = 0.99\n",
    "niter = 500\n",
    "\n",
    "#problem params\n",
    "nvar = 20  # no. of stocks\n",
    "varMin = 0  #since weigh shoul be in range 0 and 1\n",
    "varMax = 1\n",
    "maxVelocity = 0.2*(varMax-varMin)\n",
    "minVelocity = -maxVelocity\n",
    "\n",
    "#declare the helper functions\n",
    "cost1 = evalExpectedReturn     # the one to maximize\n",
    "cost2 = evalRisk       # the one to minimize\n",
    "norm = normalizeWeight\n",
    "constr = applyConstraint\n",
    "population, pareto_list, GLOBAL_BEST = mopsoOptimizer(cost1, cost2, applyConstraint=constr,normalize=norm, \n",
    "                                                      npop = npop, nvar = nvar, varMax=varMax, varMin=varMin,\n",
    "                                                      niter = niter ,c1=c1, c2=c2, w=w, wdamp=wdamp,\n",
    "                                                      maxVelocity=maxVelocity, minVelocity=minVelocity)"
   ]
  },
  {
   "cell_type": "code",
   "execution_count": 7,
   "metadata": {},
   "outputs": [],
   "source": [
    "# Transiotion of pareto fronts over iteration\n",
    "#import matplotlib.animation as animation\n",
    "def savePlots(pareto_list):\n",
    "    f = 1\n",
    "    count=0\n",
    "    for paretoFront in pareto_list:\n",
    "        plt.figure()\n",
    "        count+=1\n",
    "        f*=-1\n",
    "        if f==-1:\n",
    "            continue\n",
    "      \n",
    "        t= list(paretoFront.values())\n",
    "        costs = []\n",
    "        for i in t:\n",
    "            costs = costs+i\n",
    "        costs = np.array(costs)\n",
    "        X = costs[:,0]\n",
    "        Y = costs[:,1]\n",
    "        plt.scatter(X,Y)\n",
    "        for front in paretoFront:\n",
    "            X = np.array(paretoFront[front])[:,0]\n",
    "            Y = np.array(paretoFront[front])[:,1]\n",
    "            plt.plot(X,Y)\n",
    "        plt.xlabel(\"EXPECTED RETURN\")\n",
    "        plt.ylabel(\"RISK\")\n",
    "        plt.title(\"Pareto Fronts for iteration \"+str(count))\n",
    "        filname = \"./images/graph\"+str(count//2)+\".png\"\n",
    "        plt.savefig(filname)\n",
    "        plt.show()\n",
    "        plt.close()\n",
    "        \n"
   ]
  },
  {
   "cell_type": "code",
   "execution_count": 23,
   "metadata": {},
   "outputs": [],
   "source": [
    "#savePlots(pareto_list)\n"
   ]
  },
  {
   "cell_type": "code",
   "execution_count": 10,
   "metadata": {},
   "outputs": [
    {
     "data": {
      "text/plain": [
       "(4.961608626708837, 0.5378345348287976)"
      ]
     },
     "execution_count": 10,
     "metadata": {},
     "output_type": "execute_result"
    }
   ],
   "source": [
    "population[0].cost1, population[0].cost2"
   ]
  },
  {
   "cell_type": "code",
   "execution_count": null,
   "metadata": {},
   "outputs": [],
   "source": []
  }
 ],
 "metadata": {
  "kernelspec": {
   "display_name": "Python 3",
   "language": "python",
   "name": "python3"
  },
  "language_info": {
   "codemirror_mode": {
    "name": "ipython",
    "version": 3
   },
   "file_extension": ".py",
   "mimetype": "text/x-python",
   "name": "python",
   "nbconvert_exporter": "python",
   "pygments_lexer": "ipython3",
   "version": "3.7.7"
  }
 },
 "nbformat": 4,
 "nbformat_minor": 4
}
