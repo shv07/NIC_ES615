{
 "cells": [
  {
   "cell_type": "code",
   "execution_count": 1,
   "metadata": {},
   "outputs": [],
   "source": [
    "import numpy as np\n",
    "import matplotlib.pyplot as plt"
   ]
  },
  {
   "cell_type": "code",
   "execution_count": 2,
   "metadata": {},
   "outputs": [],
   "source": [
    "###utility functions#####\n",
    "#function 1\n",
    "def lateralSA(r,h, pi = 3.143):\n",
    "    l = (r**2+h**2)**0.5\n",
    "    return pi*r*l\n",
    "\n",
    "#funciton 2\n",
    "def totalSA(r,h, pi = 3.143):\n",
    "    return lateralSA(r,h) + pi*r**2\n",
    "\n",
    "#constraint_function\n",
    "def volume(r, h, pi = 3.143):\n",
    "    return (1/3)*pi*h*r**2\n",
    "\n",
    "def flipBit(s, prob):\n",
    "    assert s in [\"0\", \"1\"]\n",
    "    assert prob in [0,1]\n",
    "    if prob==1:\n",
    "        return '1' if s=='0' else '0'\n",
    "    return s\n",
    "def applyBounds(x, lower = [0,0], upper = [10,20]):\n",
    "    #x (float)\n",
    "    a1 = max(x[0],lower[0])\n",
    "    a1 = min(x[0], upper[0])\n",
    "    a2 = max(x[1],lower[1])\n",
    "    a2 = min(x[1], upper[1])\n",
    "    y = np.array([a1,a2])\n",
    "    y = np.around(y,2)\n",
    "    return y\n",
    "def applyConstraint(child, limit = 200, rnew = 5, hnew = 10):\n",
    "    \"\"\"\n",
    "    \"\"\"\n",
    "    r, h = child\n",
    "    if volume(r,h)>200:\n",
    "        return child\n",
    "    return np.array([rnew, hnew])\n",
    "convert2objective = lambda x:np.around(np.array([lateralSA(x[:,0],x[:,1]), totalSA(x[:,0],x[:,1])]).T,2)"
   ]
  },
  {
   "cell_type": "code",
   "execution_count": 3,
   "metadata": {},
   "outputs": [
    {
     "data": {
      "text/plain": [
       "array([ 5.67, 20.  ])"
      ]
     },
     "execution_count": 3,
     "metadata": {},
     "output_type": "execute_result"
    }
   ],
   "source": [
    "applyBounds([5.67, 26.87])"
   ]
  },
  {
   "cell_type": "code",
   "execution_count": 4,
   "metadata": {},
   "outputs": [],
   "source": [
    "def float2binary(parent, nvar, ndec=2, chromosome_size=11):\n",
    "    \"\"\"\n",
    "    Converts each of the nvar values of the parent to binary of size \"chromosome_size\" and concatenates them\n",
    "    to 1 string\n",
    "    Args:\n",
    "        parent (list) - list of nvar floating values\n",
    "        nvar (int) - no. of variables, the size of parent\n",
    "        ndec (int) - max no. of decimal points of each values in parent\n",
    "        chromosome_size (int) - no. of bits to which each value in parent is converted\n",
    "    Return:\n",
    "        parent_bin (str) - binary no. string made by concatenating each value's binary equivalent\n",
    "    \"\"\"\n",
    "    parent_bin = \"\"\n",
    "    for i in range(nvar):\n",
    "        val = int(parent[i]*10**ndec) #converting from float to int, later will be converted back\n",
    "        binary = bin(val)[2:]\n",
    "        binary = \"0\"*(chromosome_size-len(binary)) + binary\n",
    "        parent_bin = parent_bin + binary\n",
    "    return parent_bin\n",
    "def binary2float(child, nvar, ndec=2, chromosome_size=11):\n",
    "    \"\"\"\n",
    "    Converts the child string to nvar float values by reversin the effect of float2binary\n",
    "    Args:\n",
    "        child (str) - binary no. string made by concatenating each value's binary equivalent,\n",
    "                     size - nvar*chromosome_size\n",
    "        nvar (int) - no. of variables whose binary are concatenated in child\n",
    "        ndec (int) - max no. of decimal points of each values \n",
    "        chromosome_size (int) - no. of bits of each value in child\n",
    "    Return:\n",
    "        child (list) - list of nvar floating values\n",
    "    \"\"\"\n",
    "    child_float = []\n",
    "    \n",
    "    for i in range(nvar):\n",
    "        val = child[i*chromosome_size:(i+1)*chromosome_size]\n",
    "        val = int(val, 2)/10**ndec    #converting to float, reversing the effect of binary conversion\n",
    "        child_float.append(val)\n",
    "        \n",
    "    return child_float"
   ]
  },
  {
   "cell_type": "code",
   "execution_count": 5,
   "metadata": {},
   "outputs": [
    {
     "data": {
      "text/plain": [
       "[2.0, 3.0, 10.0]"
      ]
     },
     "execution_count": 5,
     "metadata": {},
     "output_type": "execute_result"
    }
   ],
   "source": [
    "#verify correctness\n",
    "binary2float(float2binary([2.0,3.0,10.0],3,0,4),3,0,4) "
   ]
  },
  {
   "cell_type": "code",
   "execution_count": 6,
   "metadata": {},
   "outputs": [],
   "source": [
    "def initialize_population(npop, nvar = 2, var_range = [(0,10), (0,20)], ndecimal = 2, seed = 0):\n",
    "    \"\"\"Initializes population and returns it\n",
    "    Args:\n",
    "        npop (int)- population size\n",
    "        nvar (int)- no. of variables in the problem\n",
    "        var_range (list) - a list of tuples, where ith tuple is the range of values ith variable takes\n",
    "        ndecimal (int)- max no. digits after decimal points the variables can take, helps in converting to binary\n",
    "        seed (int)- numpy random seed \n",
    "    Return:\n",
    "        initial_pop (2d-array of size (npop,nvar)) - ith row corresponsds to ith member in population\n",
    "                                                            which is a list of nvar values\n",
    "    \"\"\"\n",
    "    np.random.seed(seed)\n",
    "    initial_pop = []\n",
    "    for i in range(nvar):\n",
    "        var_size = var_range[i]\n",
    "        new_member = np.around(np.random.uniform(var_size[0], var_size[1], (1,npop)), 2)\n",
    "        initial_pop.append(new_member)\n",
    "    initial_pop = np.array(initial_pop).T\n",
    "    return initial_pop.squeeze()"
   ]
  },
  {
   "cell_type": "code",
   "execution_count": 7,
   "metadata": {},
   "outputs": [],
   "source": [
    "np.random.seed(0)\n",
    "a = np.random.uniform(0, 10, (1,5))\n",
    "b = np.random.uniform(0, 20, (1,5))\n",
    "c = np.append(a,b,axis = 0).T"
   ]
  },
  {
   "cell_type": "code",
   "execution_count": 8,
   "metadata": {},
   "outputs": [
    {
     "data": {
      "text/plain": [
       "array([[5.48813504, 7.15189366, 6.02763376, 5.44883183, 4.23654799]])"
      ]
     },
     "execution_count": 8,
     "metadata": {},
     "output_type": "execute_result"
    }
   ],
   "source": [
    "a"
   ]
  },
  {
   "cell_type": "code",
   "execution_count": 9,
   "metadata": {},
   "outputs": [
    {
     "data": {
      "text/plain": [
       "array([[12.91788226,  8.75174423, 17.83546002, 19.27325521,  7.66883038]])"
      ]
     },
     "execution_count": 9,
     "metadata": {},
     "output_type": "execute_result"
    }
   ],
   "source": [
    "b"
   ]
  },
  {
   "cell_type": "code",
   "execution_count": 10,
   "metadata": {},
   "outputs": [
    {
     "data": {
      "text/plain": [
       "array([[ 5.48813504, 12.91788226],\n",
       "       [ 7.15189366,  8.75174423],\n",
       "       [ 6.02763376, 17.83546002],\n",
       "       [ 5.44883183, 19.27325521],\n",
       "       [ 4.23654799,  7.66883038]])"
      ]
     },
     "execution_count": 10,
     "metadata": {},
     "output_type": "execute_result"
    }
   ],
   "source": [
    "c"
   ]
  },
  {
   "cell_type": "code",
   "execution_count": 11,
   "metadata": {},
   "outputs": [
    {
     "data": {
      "text/plain": [
       "array([[ 5.49, 12.92],\n",
       "       [ 7.15,  8.75],\n",
       "       [ 6.03, 17.84],\n",
       "       [ 5.45, 19.27],\n",
       "       [ 4.24,  7.67]])"
      ]
     },
     "execution_count": 11,
     "metadata": {},
     "output_type": "execute_result"
    }
   ],
   "source": [
    "initialize_population(5)"
   ]
  },
  {
   "cell_type": "code",
   "execution_count": 12,
   "metadata": {},
   "outputs": [],
   "source": [
    "def tournament_selection(npop, rank):\n",
    "    \"\"\"\n",
    "    Selects a parent for mating besed on touranment selection\n",
    "    Args:\n",
    "        npop (int)- population size\n",
    "        rank (dict) - a dictionary containing the ranks of each member from current population\n",
    "    \"\"\"\n",
    "    parent1 = np.random.randint(0, npop)\n",
    "    parent2 = np.random.randint(0, npop)\n",
    "    \n",
    "    return (parent1 if rank[parent1]<rank[parent2] else parent2)"
   ]
  },
  {
   "cell_type": "code",
   "execution_count": 13,
   "metadata": {},
   "outputs": [],
   "source": [
    "def crossover(parent1, parent2, nvar=2, ndec=2, prob = 0.85, chromosome_size = 11):\n",
    "    \"\"\"\n",
    "    Perfroms two point genetic crossover and returns the new children\n",
    "    NOTE - Does not apply bouds to new child here!\n",
    "    \n",
    "    Args:\n",
    "        parent1, parent2 (list) - parents each containing nvar values\n",
    "        ndec (int) - max no. of decimal points in values contained in parents\n",
    "        prob (float) - the probabilty for doing crossover\n",
    "        chromosome_size (int)- the size of the binary equivalent of largest no. in var_size \n",
    "    Return:\n",
    "        child1, child2 (list)\n",
    "    \"\"\"\n",
    "    parent1_ = float2binary(parent1, nvar, ndec, chromosome_size)\n",
    "    parent2_ = float2binary(parent2, nvar, ndec, chromosome_size)\n",
    "    \n",
    "    crossover_point1 = np.random.randint(2,chromosome_size*nvar//2)\n",
    "    crossover_point2 = np.random.randint(1+chromosome_size*nvar//2, chromosome_size*nvar-1)\n",
    "    if np.random.rand()<=prob:\n",
    "        child1 = parent1_[:crossover_point1] + parent2_[crossover_point1:crossover_point2] + parent1_[crossover_point2:]\n",
    "        child2 = parent2_[:crossover_point1] + parent1_[crossover_point1:crossover_point2] + parent2_[crossover_point2:]\n",
    "        \n",
    "        child1 = binary2float(child1, nvar, ndec, chromosome_size)\n",
    "        child2 = binary2float(child2, nvar, ndec, chromosome_size)\n",
    "        return child1, child2\n",
    "    return parent1, parent2"
   ]
  },
  {
   "cell_type": "code",
   "execution_count": 14,
   "metadata": {},
   "outputs": [
    {
     "data": {
      "text/plain": [
       "Text(0.5, 1.0, 'Distribution of values taken after crossover of above parents')"
      ]
     },
     "execution_count": 14,
     "metadata": {},
     "output_type": "execute_result"
    },
    {
     "data": {
      "image/png": "[encoded data removed]",
      "text/plain": [
       "<Figure size 432x288 with 1 Axes>"
      ]
     },
     "metadata": {
      "needs_background": "light"
     },
     "output_type": "display_data"
    }
   ],
   "source": [
    "for i in range(50):\n",
    "    x,y = (crossover([5.63, 11.53], [1.56, 7.94]))\n",
    "    plt.scatter(x[0], x[1])\n",
    "    plt.scatter(y[0], y[1])\n",
    "plt.title(\"Distribution of values taken after crossover of above parents\")"
   ]
  },
  {
   "cell_type": "code",
   "execution_count": 15,
   "metadata": {},
   "outputs": [],
   "source": [
    "def mutation(child, nvar = 2, ndec = 2, chromosome_size = 11, mutRate = 0.005):\n",
    "    \"\"\"\n",
    "    Performs mutation on the child by converting it to binary and flipping each bit on prob = mutRate\n",
    "    NOTE - Does not do applyBounds\n",
    "    \"\"\"\n",
    "    childBin = float2binary(child, nvar = 2, ndec = 2, chromosome_size = 11)\n",
    "    flip = np.int32(np.random.randn(chromosome_size*nvar)<=mutRate)\n",
    "    mutChild = ''\n",
    "    \n",
    "    for i in range(chromosome_size*nvar):\n",
    "        mutChild = mutChild + flipBit(childBin[i], flip[i])\n",
    "    mutChild = binary2float(mutChild, nvar, ndec, chromosome_size)\n",
    "    return mutChild"
   ]
  },
  {
   "cell_type": "code",
   "execution_count": 16,
   "metadata": {},
   "outputs": [
    {
     "data": {
      "text/plain": [
       "[14.32, 0.3]"
      ]
     },
     "execution_count": 16,
     "metadata": {},
     "output_type": "execute_result"
    }
   ],
   "source": [
    "mutation([8.63,19.56])"
   ]
  },
  {
   "cell_type": "code",
   "execution_count": 17,
   "metadata": {},
   "outputs": [],
   "source": [
    "def crowdingDistSorting(children, population):\n",
    "    \"\"\"\n",
    "    Sorts the chldren belonging to population acc. to the crowding distance sorting\n",
    "    NOTE - Works only for 2 obective functions\n",
    "    Args:\n",
    "        Children (2D array of size (?,nvar)) - the subset of population belonging to a particular pareto \n",
    "                                                which needs to be sorted\n",
    "        Population (2D array of size (npop, nvar)) - the current population\n",
    "    Returns : Sorted Children\n",
    "    \"\"\"\n",
    "    \n",
    "    \n",
    "    costValArray = convert2objective(population)\n",
    "\n",
    "    Smax, Tmax = np.max(costValArray, axis = 0)  #surfaceArea, TotalArea\n",
    "    Smin, Tmin = np.min(costValArray, axis = 0)\n",
    "\n",
    "    tmpCrowd = []\n",
    "    \n",
    "    tmp = np.copy(children)\n",
    "    #assign inf distance to the extreme points corresponding to all objective functions\n",
    "    tmp = sorted(children, key=lambda x:lateralSA(population[x][0], population[x][1]))\n",
    "    tmpCrowd.append((tmp[0] ,float('inf')))\n",
    "    tmpCrowd.append((tmp[-1], float('inf')))\n",
    "    min1 = tmp[0]\n",
    "    max1 = tmp[-1]\n",
    "    \n",
    "    tmp = sorted(children, key=lambda x:totalSA(population[x][0], population[x][1]))\n",
    "    tmpCrowd.append([tmp[0] ,float('inf')])\n",
    "    tmpCrowd.append([tmp[-1], float('inf')])\n",
    "    min2 = tmp[0]\n",
    "    max2 = tmp[-1]\n",
    "    \n",
    "    extremes = {min1, min2, max1, max2}\n",
    "    for idx, val in enumerate(tmp):\n",
    "        if val in extremes:\n",
    "            pass\n",
    "        else:\n",
    "            dist = abs(lateralSA(population[tmp[idx+1]][0], population[tmp[idx+1]][1])-\n",
    "                    lateralSA(population[tmp[idx-1]][0], population[tmp[idx-1]][1]))/(Smax-Smin)+abs(\n",
    "                    totalSA(population[tmp[idx+1]][0], population[tmp[idx+1]][1]) - \n",
    "                    totalSA(population[tmp[idx-1]][0], population[tmp[idx-1]][1]))/(Tmax-Tmin)\n",
    "\n",
    "            tmpCrowd.append([val, dist])\n",
    "    \n",
    "    tmpCrowd = np.array(tmpCrowd)\n",
    "    newChildren = np.array(sorted(tmpCrowd, key = lambda x:x[1], reverse=True)).squeeze()\n",
    "    newChildren = newChildren[:,0]\n",
    "    idx = np.unique(newChildren, return_index = True)[1]\n",
    "    newChildren = [newChildren[i] for i in sorted(idx)]\n",
    "    return np.int32(newChildren)"
   ]
  },
  {
   "cell_type": "code",
   "execution_count": 18,
   "metadata": {},
   "outputs": [
    {
     "data": {
      "text/plain": [
       "array([[116.66, 173.07],\n",
       "       [356.66, 470.86],\n",
       "       [242.1 , 336.76],\n",
       "       [254.06, 414.82],\n",
       "       [343.  , 436.32]])"
      ]
     },
     "execution_count": 18,
     "metadata": {},
     "output_type": "execute_result"
    }
   ],
   "source": [
    "a = crowdingDistSorting([0,3,4,1,2], c)\n",
    "a = c[a]\n",
    "b = convert2objective(a)\n",
    "b"
   ]
  },
  {
   "cell_type": "code",
   "execution_count": 19,
   "metadata": {},
   "outputs": [
    {
     "data": {
      "text/plain": [
       "<matplotlib.collections.PathCollection at 0x7f9e1c85b790>"
      ]
     },
     "execution_count": 19,
     "metadata": {},
     "output_type": "execute_result"
    },
    {
     "data": {
      "image/png": "[encoded data removed]",
      "text/plain": [
       "<Figure size 432x288 with 1 Axes>"
      ]
     },
     "metadata": {
      "needs_background": "light"
     },
     "output_type": "display_data"
    }
   ],
   "source": [
    "plt.scatter(lateralSA(c[:,0],c[:,1]), totalSA(c[:,0], c[:,1]))"
   ]
  },
  {
   "cell_type": "markdown",
   "metadata": {},
   "source": [
    "Clearly the points which are farthest come first in the list printed above, stored in \"b\""
   ]
  },
  {
   "cell_type": "code",
   "execution_count": 20,
   "metadata": {},
   "outputs": [],
   "source": [
    "def atLeast1dominate(front, x):\n",
    "    \"\"\"\n",
    "    Checks wheather atleast one soln in front dominates soln x\n",
    "    Args:\n",
    "        front (list) - list of soln(with cost values) belonging to a front\n",
    "        x (array) - a solution containing the cost values\n",
    "    Returns:\n",
    "        True/ False\n",
    "    \"\"\"\n",
    "    if True in [(i<x).all() for i in front]:\n",
    "        return True\n",
    "    return False\n",
    "def findFront(idx, paretoFronts, costs):\n",
    "    \"\"\"\n",
    "    Returns the front to which the solution[idx] belongs, and simultaneously updates the Pareto front\n",
    "    Args:\n",
    "        idx (int) - the index of the solution whose front no. is to be found\n",
    "        paretoFronts (dict) - the current paretoFronts, to be updated too.\n",
    "        costs (2D array)- the cost values array corresponding the current population sorted to descending\n",
    "                            order of 1 cost function (here lateralSA)\n",
    "    Return:\n",
    "        front (int) - the front no. to which soln[idx] belongs\n",
    "    Update:\n",
    "        paretoFronts (dict) - assigns idx to ParetoFronts[front]\n",
    "    \"\"\"\n",
    "    l = len(paretoFronts)\n",
    "    if l==0:\n",
    "        paretoFronts[1] = [idx]\n",
    "        return 1\n",
    "    for i in paretoFronts:\n",
    "        front = paretoFronts[i]\n",
    "        if atLeast1dominate([costs[t] for t in front], costs[idx])==False:\n",
    "            paretoFronts[i].append(idx)\n",
    "            return idx\n",
    "    paretoFronts[l+1] = [idx]\n",
    "    return l+1\n",
    "def nonDominatedSorting(population):\n",
    "    \"\"\"\n",
    "    Perfroms non-dominated sorting on the population and returns the pareto front, along with the population \n",
    "    sorted in escending order of lateralSA \n",
    "    NOTE - crowding distance sorting not applied here\n",
    "    \"\"\"\n",
    "    nvar = population.shape[1]\n",
    "    npop = population.shape[0]\n",
    "    \n",
    "    populationSorted = np.array(sorted(population, key = lambda x:lateralSA(x[0],x[1])))\n",
    "    costs = convert2objective(populationSorted)\n",
    "    paretoFronts = {}\n",
    "    \n",
    "    for i in range(npop):\n",
    "        findFront(i, paretoFronts, costs)\n",
    "    return paretoFronts, populationSorted\n",
    "\n",
    "def updateRank(paretoFronts):\n",
    "    \"\"\"\n",
    "    Returns the updated rank of each solution\n",
    "    Args:\n",
    "        paretoFronts (dict) - current pareto fronts\n",
    "    Return:\n",
    "        rank (dict) - rank of each solution idx\n",
    "    \"\"\"\n",
    "    ranks = {}\n",
    "    r = 1\n",
    "    for front in paretoFronts:\n",
    "        for idx in paretoFronts[front]:\n",
    "            ranks[idx] = r\n",
    "            r+=1\n",
    "    return ranks\n",
    "def updatePopulation(population, paretoFronts, npop):\n",
    "    newPop = []\n",
    "    if len(population)<=npop:\n",
    "        return population\n",
    "    count=0\n",
    "    flag = 0\n",
    "    for front in paretoFronts:\n",
    "        if flag==1:\n",
    "            break\n",
    "        for x in paretoFronts[front]:\n",
    "            if count>=npop:\n",
    "                flag=1\n",
    "                break\n",
    "            newPop.append(population[x])\n",
    "            count+=1\n",
    "    return np.array(newPop)"
   ]
  },
  {
   "cell_type": "code",
   "execution_count": 21,
   "metadata": {},
   "outputs": [],
   "source": [
    "pop = np.array([[4.96, 4.99, 6.09, 6.91, 5.20, 5.21], [0.60, 5.10, 0.79, 10.62, 18.86, 18.87]]).T"
   ]
  },
  {
   "cell_type": "code",
   "execution_count": 22,
   "metadata": {},
   "outputs": [],
   "source": [
    "fronts, pop_ = nonDominatedSorting(pop)"
   ]
  },
  {
   "cell_type": "code",
   "execution_count": 23,
   "metadata": {},
   "outputs": [
    {
     "data": {
      "text/plain": [
       "{1: [0], 2: [1], 3: [2], 4: [3, 4], 5: [5]}"
      ]
     },
     "execution_count": 23,
     "metadata": {},
     "output_type": "execute_result"
    }
   ],
   "source": [
    "fronts"
   ]
  },
  {
   "cell_type": "code",
   "execution_count": 24,
   "metadata": {},
   "outputs": [
    {
     "data": {
      "text/plain": [
       "array([[ 4.96,  0.6 ],\n",
       "       [ 4.99,  5.1 ],\n",
       "       [ 6.09,  0.79],\n",
       "       [ 6.91, 10.62],\n",
       "       [ 5.2 , 18.86],\n",
       "       [ 5.21, 18.87]])"
      ]
     },
     "execution_count": 24,
     "metadata": {},
     "output_type": "execute_result"
    }
   ],
   "source": [
    "pop_"
   ]
  },
  {
   "cell_type": "code",
   "execution_count": 25,
   "metadata": {},
   "outputs": [
    {
     "data": {
      "text/plain": [
       "array([[ 77.89, 155.21],\n",
       "       [111.9 , 190.17],\n",
       "       [117.54, 234.11],\n",
       "       [275.17, 425.24],\n",
       "       [319.74, 404.73],\n",
       "       [320.56, 405.87]])"
      ]
     },
     "execution_count": 25,
     "metadata": {},
     "output_type": "execute_result"
    }
   ],
   "source": [
    "convert2objective(pop_)"
   ]
  },
  {
   "cell_type": "code",
   "execution_count": 26,
   "metadata": {},
   "outputs": [
    {
     "data": {
      "text/plain": [
       "{0: 1, 1: 2, 2: 3, 3: 4, 4: 5, 5: 6}"
      ]
     },
     "execution_count": 26,
     "metadata": {},
     "output_type": "execute_result"
    }
   ],
   "source": [
    "updateRank(fronts)"
   ]
  },
  {
   "cell_type": "markdown",
   "metadata": {},
   "source": [
    "As seen above the fronts are consistent with the cost function values"
   ]
  },
  {
   "cell_type": "markdown",
   "metadata": {},
   "source": [
    "## NSGA II"
   ]
  },
  {
   "cell_type": "code",
   "execution_count": 27,
   "metadata": {},
   "outputs": [],
   "source": [
    "def NSGA2(npop = 6, nvar = 2, niter = 100, var_range = [(0,10), (0,20)], constraintLimit = 200, seed = 0):\n",
    "    \"\"\"\n",
    "    Combines the above functions to implement the algorithm NSGA II\n",
    "    Returns the final solution population and the pareto front \n",
    "    \"\"\"\n",
    "    #initialization\n",
    "    population = initialize_population(npop, nvar, var_range, seed)\n",
    "    paretoFronts, population = nonDominatedSorting(population)\n",
    "    rank = updateRank(paretoFronts)\n",
    "    \n",
    "    for i in range(niter):\n",
    "        for j in range(npop//2):\n",
    "            #selection\n",
    "            p1 = tournament_selection(npop, rank)\n",
    "            p2 = tournament_selection(npop, rank)\n",
    "            #crossover & mutaion\n",
    "            c1, c2 = crossover(population[p1], population[p2])\n",
    "            c1, c2 = mutation(c1), mutation(c2)\n",
    "            #applying bounds and constraints\n",
    "            c1, c2 = applyBounds(c1), applyBounds(c2)\n",
    "            c1, c2 = applyConstraint(c1, constraintLimit), applyConstraint(c2, constraintLimit)\n",
    "            #adding childrent to the population\n",
    "            population = np.append(population, np.array([c1,c2]), axis = 0)\n",
    "        \n",
    "        paretoFronts, population = nonDominatedSorting(population)\n",
    "        for front in paretoFronts:\n",
    "            if len(paretoFronts[front])>1:\n",
    "                paretoFronts[front] = crowdingDistSorting(paretoFronts[front], population)\n",
    "        rank = updateRank(paretoFronts)\n",
    "        population = updatePopulation(population,paretoFronts, npop)\n",
    "        paretoFronts, population = nonDominatedSorting(population)\n",
    "    return paretoFronts, population"
   ]
  },
  {
   "cell_type": "code",
   "execution_count": 32,
   "metadata": {},
   "outputs": [],
   "source": [
    "f, p = NSGA2(npop=10, niter = 500)"
   ]
  },
  {
   "cell_type": "code",
   "execution_count": 29,
   "metadata": {},
   "outputs": [
    {
     "data": {
      "text/plain": [
       "<matplotlib.collections.PathCollection at 0x7f9e1c7cb790>"
      ]
     },
     "execution_count": 29,
     "metadata": {},
     "output_type": "execute_result"
    },
    {
     "data": {
      "image/png": "[encoded data removed]",
      "text/plain": [
       "<Figure size 432x288 with 1 Axes>"
      ]
     },
     "metadata": {
      "needs_background": "light"
     },
     "output_type": "display_data"
    }
   ],
   "source": [
    "plt.scatter(convert2objective(p).T[0], convert2objective(p).T[1]) "
   ]
  },
  {
   "cell_type": "code",
   "execution_count": 30,
   "metadata": {},
   "outputs": [
    {
     "data": {
      "text/plain": [
       "{1: [0], 2: [1], 3: [2, 3, 5], 4: [4, 6, 8], 5: [7, 9]}"
      ]
     },
     "execution_count": 30,
     "metadata": {},
     "output_type": "execute_result"
    }
   ],
   "source": [
    "f"
   ]
  },
  {
   "cell_type": "code",
   "execution_count": 31,
   "metadata": {},
   "outputs": [
    {
     "data": {
      "text/plain": [
       "array([[ 4.24,  1.42],\n",
       "       [ 4.38,  0.4 ],\n",
       "       [ 6.46,  1.74],\n",
       "       [ 5.85,  5.85],\n",
       "       [ 6.1 ,  6.05],\n",
       "       [ 3.72, 14.02],\n",
       "       [ 4.1 , 12.63],\n",
       "       [ 4.95,  9.86],\n",
       "       [ 3.6 , 15.38],\n",
       "       [ 3.27, 18.43]])"
      ]
     },
     "execution_count": 31,
     "metadata": {},
     "output_type": "execute_result"
    }
   ],
   "source": [
    "p"
   ]
  },
  {
   "cell_type": "code",
   "execution_count": 33,
   "metadata": {},
   "outputs": [
    {
     "data": {
      "text/plain": [
       "array([[ 59.59, 116.09],\n",
       "       [ 60.55, 120.84],\n",
       "       [135.84, 267.  ],\n",
       "       [144.23, 227.27],\n",
       "       [146.73, 228.16],\n",
       "       [147.04, 237.67],\n",
       "       [152.25, 210.64],\n",
       "       [155.07, 215.09],\n",
       "       [158.13, 209.43],\n",
       "       [167.73, 211.69]])"
      ]
     },
     "execution_count": 33,
     "metadata": {},
     "output_type": "execute_result"
    }
   ],
   "source": [
    "convert2objective(p)"
   ]
  },
  {
   "cell_type": "code",
   "execution_count": 34,
   "metadata": {
    "scrolled": false
   },
   "outputs": [
    {
     "data": {
      "text/plain": [
       "array([ 26.74503582,   8.03954256,  76.0742029 , 202.05622015,\n",
       "       207.10149261, 207.25060805, 202.01100076, 208.27480175,\n",
       "       201.43324402, 201.79029301])"
      ]
     },
     "execution_count": 34,
     "metadata": {},
     "output_type": "execute_result"
    }
   ],
   "source": [
    "volume(p[:,0], p[:,1])"
   ]
  },
  {
   "cell_type": "code",
   "execution_count": null,
   "metadata": {},
   "outputs": [],
   "source": []
  }
 ],
 "metadata": {
  "kernelspec": {
   "display_name": "Python 3",
   "language": "python",
   "name": "python3"
  },
  "language_info": {
   "codemirror_mode": {
    "name": "ipython",
    "version": 3
   },
   "file_extension": ".py",
   "mimetype": "text/x-python",
   "name": "python",
   "nbconvert_exporter": "python",
   "pygments_lexer": "ipython3",
   "version": "3.7.7"
  }
 },
 "nbformat": 4,
 "nbformat_minor": 4
}
