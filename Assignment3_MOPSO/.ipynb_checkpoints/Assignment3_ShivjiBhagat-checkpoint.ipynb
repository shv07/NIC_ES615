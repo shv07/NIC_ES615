{
 "cells": [
  {
   "cell_type": "markdown",
   "metadata": {},
   "source": [
    "# Portfolio Optimization using MOPSO"
   ]
  },
  {
   "cell_type": "markdown",
   "metadata": {},
   "source": [
    "## Problem Statement\n",
    "Assume that you are a financial consultant and you have to create a portfolio for your client. You have two objectives: \n",
    "1. Maximize the expected return of the portfolio\n",
    "2. Minimize the risk associated with the portfolio <br>"
   ]
  },
  {
   "cell_type": "markdown",
   "metadata": {},
   "source": [
    "In the attached file, the data of 20 stocks from 4 different industries is provided. <br>\n",
    "Since diversification helps in minimizing risk, two constraints are imposed on the weights associated with each stock in the portfolio. First, to reduce emphasize on a particular stock, each stock must account for no more than 15% of the total portfolio. In addition, the proportion of an industry must not exceed 40% of the total portfolio.<br> \n",
    "Use the MOPSO algorithm to make appropriate investment suggestion. Show the transitions of Pareto fronts over iterations in a YouTube video.<br>\n",
    "<a href=\"https://drive.google.com/open?id=1qLS5UUMQ6RlpyVfpEW0ZWbFOQi331j8q&authuser=0\">Stock_Information.xls</a>"
   ]
  },
  {
   "cell_type": "code",
   "execution_count": 1,
   "metadata": {},
   "outputs": [],
   "source": [
    "import pandas as pd\n",
    "import numpy as np\n",
    "import matplotlib.pyplot as plt\n",
    "from MOPSO import mopsoOptimizer\n",
    "from MOPSO import *"
   ]
  },
  {
   "cell_type": "code",
   "execution_count": 2,
   "metadata": {},
   "outputs": [],
   "source": [
    "def read_csv(filpath=\"./Stock_information.csv\"):\n",
    "    \"\"\"\n",
    "    Reads the 3 tables from the given fil path and returns as 3 pandas data frame, \n",
    "    for the above given stock information\n",
    "    \"\"\"\n",
    "    df = pd.read_csv(filpath)\n",
    "    industry = df.iloc[:5, :2]\n",
    "    stocksData = df.iloc[7:10,:]\n",
    "    covarianceMatrix = df.iloc[15:,:]\n",
    "    \n",
    "    stocksData = np.float32(stocksData.iloc[1:,1:])\n",
    "    covarianceMatrix = np.float32(covarianceMatrix.iloc[1:,1:])\n",
    "    return (industry, stocksData, covarianceMatrix)"
   ]
  },
  {
   "cell_type": "code",
   "execution_count": 3,
   "metadata": {},
   "outputs": [],
   "source": [
    "#get data\n",
    "industry, stocksData, covarianceMatrix = read_csv()\n",
    "ER = stocksData[0,:]\n",
    "variance = stocksData[1,:]"
   ]
  },
  {
   "cell_type": "code",
   "execution_count": 4,
   "metadata": {},
   "outputs": [],
   "source": [
    "#cost_functions\n",
    "def evalExpectedReturn(weights, expectedReturns=ER):\n",
    "    \"\"\"\n",
    "    Evaluates the expected return of the portfolio using the given weights and expected returns\n",
    "    of each asset\n",
    "    Arg:\n",
    "        weights (array) - array of size (1, nAssets) of weight assosciated with each asset\n",
    "        expected return (array) - array of size (1, nAssests) of expected return of each asset\n",
    "    Return:\n",
    "        Expected return of the portfolio (float)\n",
    "    \"\"\"\n",
    "    \n",
    "    weights = np.array(weights).reshape(1,-1)\n",
    "    expectedReturns = np.array(expectedReturns).reshape(1,-1)\n",
    "    return np.dot(expectedReturns, weights.T).squeeze() + 0 #+0 to convert to real no. instead of array\n",
    "\n",
    "\n",
    "def evalRisk(weights, variance=variance, covariance=covarianceMatrix):\n",
    "    \"\"\"\n",
    "    Returns the risk associated with the portfolio (float)\n",
    "    Args:\n",
    "        weights - for each stock, shape\n",
    "        variance - for each stock\n",
    "        covariance -for all stock combination in format   A1..A5 B1..D1..D5\n",
    "                                                        A1 .   .\n",
    "                                                        .\n",
    "                                                        .\n",
    "                                                        .\n",
    "                                                        D5\n",
    "    \"\"\"\n",
    "    weights, variance = np.array(weights).reshape(1,-1), np.array(variance).reshape(1,-1)\n",
    "    weightSqrd = np.power(weights, 2)\n",
    "    \n",
    "    weightsRepeated1 = np.repeat(weights, weights.shape[1],0)\n",
    "    weightsRepeated2 = np.repeat(weights.T, weights.shape[1],1)\n",
    "    \n",
    "    sdRepeated1 = np.repeat(np.sqrt(variance), variance.shape[1], 0)\n",
    "    sdRepeated2 = np.repeat(np.sqrt(variance.T), variance.shape[1], 1)\n",
    "    \n",
    "    riskSquared = np.dot(weightSqrd, variance.T).squeeze() + np.sum(covariance * weightsRepeated1 *\n",
    "                                                                    weightsRepeated2 * sdRepeated1 *\n",
    "                                                                    sdRepeated2)\n",
    "    return riskSquared**0.5\n"
   ]
  },
  {
   "cell_type": "code",
   "execution_count": null,
   "metadata": {},
   "outputs": [],
   "source": []
  },
  {
   "cell_type": "markdown",
   "metadata": {},
   "source": [
    "Both the values are same hence correct"
   ]
  },
  {
   "cell_type": "code",
   "execution_count": 5,
   "metadata": {},
   "outputs": [
    {
     "data": {
      "text/plain": [
       "5.477225575051661"
      ]
     },
     "execution_count": 5,
     "metadata": {},
     "output_type": "execute_result"
    }
   ],
   "source": [
    "#sanity check\n",
    "weights = np.ones((1,5))\n",
    "variance = np.ones((1,5))\n",
    "covar = np.ones((5,5))\n",
    "evalRisk(weights, variance, covar)"
   ]
  },
  {
   "cell_type": "markdown",
   "metadata": {},
   "source": [
    "should be equal to 30^0.5 = 5.477225575051661"
   ]
  },
  {
   "cell_type": "code",
   "execution_count": 6,
   "metadata": {},
   "outputs": [],
   "source": [
    "#constraints\n",
    "def applyConstraint(weights, constraint1=0.15, constraint2=0.4, nindustries=4, nstocks = 5):\n",
    "    \"\"\"\n",
    "    Applies the two constraints to the weights and modifies them, as mentioned in the problem\n",
    "    nindustries - total no. of industries \n",
    "    nstocks - total no. of stocks in each industry\n",
    "    \"\"\"\n",
    "    total = np.sum(weights)\n",
    "    weights = np.minimum(weights, constraint1*total)\n",
    "    \n",
    "    for i in range(nindustries-1):\n",
    "        if np.sum(weights[i*nstocks:(i+1)*nstocks])>constraint2*np.sum(weights):\n",
    "            for j in range(i*nstocks,(i+1)*nstocks):\n",
    "                weights[j]=constraint2*np.sum(weights)/nindustries\n",
    "    return weights\n",
    "#apply weight normalization\n",
    "def normalizeWeight(weights):\n",
    "    if np.sum(weights)!=1:\n",
    "        weights = weights/(np.sum(weights)+0.000001)\n",
    "    return weights \n",
    "    "
   ]
  },
  {
   "cell_type": "code",
   "execution_count": 7,
   "metadata": {},
   "outputs": [
    {
     "ename": "NameError",
     "evalue": "name 'population' is not defined",
     "output_type": "error",
     "traceback": [
      "\u001b[0;31m---------------------------------------------------------------------------\u001b[0m",
      "\u001b[0;31mNameError\u001b[0m                                 Traceback (most recent call last)",
      "\u001b[0;32m<ipython-input-7-a4dfc5a8c52a>\u001b[0m in \u001b[0;36m<module>\u001b[0;34m\u001b[0m\n\u001b[0;32m----> 1\u001b[0;31m \u001b[0mpopulation\u001b[0m\u001b[0;34m[\u001b[0m\u001b[0;36m0\u001b[0m\u001b[0;34m]\u001b[0m\u001b[0;34m.\u001b[0m\u001b[0mposition\u001b[0m\u001b[0;34m.\u001b[0m\u001b[0msize\u001b[0m\u001b[0;34m\u001b[0m\u001b[0;34m\u001b[0m\u001b[0m\n\u001b[0m",
      "\u001b[0;31mNameError\u001b[0m: name 'population' is not defined"
     ]
    }
   ],
   "source": [
    "population[0].position.size"
   ]
  },
  {
   "cell_type": "code",
   "execution_count": 8,
   "metadata": {},
   "outputs": [],
   "source": [
    "##*******************************   Main.py    ***************************************## \n",
    "\n",
    "#PSO parameters\n",
    "npop = 50\n",
    "c1,c2 = 2,2\n",
    "w = 1\n",
    "wdamp = 0.99\n",
    "niter = 100\n",
    "\n",
    "#problem params\n",
    "nvar = 20  # no. of stocks\n",
    "varMin = 0  #since weigh shoul be in range 0 and 1\n",
    "varMax = 1\n",
    "maxVelocity = 0.2*(varMax-varMin)\n",
    "minVelocity = -maxVelocity\n",
    "\n",
    "#declare the helper functions\n",
    "cost1 = evalExpectedReturn     # the one to maximize\n",
    "cost2 = evalRisk       # the one to minimize\n",
    "norm = normalizeWeight\n",
    "constr = applyConstraint\n",
    "population, pareto_list, GLOBAL_BEST = mopsoOptimizer(cost1, cost2, applyConstraint=constr,normalize=norm, \n",
    "                                                      npop = npop, nvar = nvar, varMax=varMax, varMin=varMin,\n",
    "                                                      niter = niter ,c1=c1, c2=c2, w=w, wdamp=wdamp,\n",
    "                                                      maxVelocity=maxVelocity, minVelocity=minVelocity)"
   ]
  },
  {
   "cell_type": "code",
   "execution_count": 9,
   "metadata": {},
   "outputs": [
    {
     "name": "stdout",
     "output_type": "stream",
     "text": [
      "Best weights for the 20 stocks :\n",
      "\n",
      " [[0.14999985]\n",
      " [0.        ]\n",
      " [0.        ]\n",
      " [0.        ]\n",
      " [0.        ]\n",
      " [0.        ]\n",
      " [0.        ]\n",
      " [0.14999985]\n",
      " [0.        ]\n",
      " [0.14999981]\n",
      " [0.        ]\n",
      " [0.        ]\n",
      " [0.14999985]\n",
      " [0.        ]\n",
      " [0.        ]\n",
      " [0.09999994]\n",
      " [0.        ]\n",
      " [0.14999985]\n",
      " [0.        ]\n",
      " [0.14999985]]\n",
      "\n",
      "\n",
      "\n",
      "Maximum Expected Return: 7 \n",
      "Minimum Risk: 0\n"
     ]
    }
   ],
   "source": [
    "i = GLOBAL_BEST\n",
    "print(\"Best weights for the 20 stocks :\\n\\n\", i.position.reshape(1,-1).T)\n",
    "print(\"\\n\\n\")\n",
    "print(\"Maximum Expected Return: %d \\nMinimum Risk: %d\" %(i.cost1, i.cost2))"
   ]
  },
  {
   "cell_type": "code",
   "execution_count": 10,
   "metadata": {},
   "outputs": [
    {
     "data": {
      "image/png": "[encoded data removed]",
      "text/plain": [
       "<Figure size 432x288 with 1 Axes>"
      ]
     },
     "metadata": {
      "needs_background": "light"
     },
     "output_type": "display_data"
    }
   ],
   "source": [
    "# plot the final pareto fronts\n",
    "X = [i.cost1 for i in population]\n",
    "Y = [i.cost2 for i in population]\n",
    "plt.scatter(X,Y)\n",
    "tmp = pareto_list[-1]\n",
    "for front in tmp:\n",
    "    X = np.array(tmp[front])[:,0]\n",
    "    Y = np.array(tmp[front])[:,1]\n",
    "    plt.plot(X,Y)\n",
    "plt.xlabel(\"EXPECTED RETURN\")\n",
    "plt.ylabel(\"RISK\")\n",
    "plt.title(\"Final Pareto Fronts\")\n",
    "plt.show()"
   ]
  },
  {
   "cell_type": "code",
   "execution_count": 21,
   "metadata": {},
   "outputs": [],
   "source": [
    "# Transiotion of pareto fronts over iteration\n",
    "import matplotlib.animation as animation\n",
    "def savePlots(pareto_list):\n",
    "    f = 1\n",
    "    count=1\n",
    "    for paretoFront in pareto_list:\n",
    "        f*=-1\n",
    "        if f==-1:\n",
    "            continue\n",
    "      \n",
    "        t= list(paretoFront.values())\n",
    "        costs = []\n",
    "        for i in t:\n",
    "            costs = costs+i\n",
    "        costs = np.array(costs)\n",
    "        X = costs[:,0]\n",
    "        Y = costs[:,1]\n",
    "        plt.scatter(X,Y)\n",
    "        for front in paretoFront:\n",
    "            X = np.array(paretoFront[front])[:,0]\n",
    "            Y = np.array(paretoFront[front])[:,1]\n",
    "            plt.plot(X,Y)\n",
    "        plt.xlabel(\"EXPECTED RETURN\")\n",
    "        plt.ylabel(\"RISK\")\n",
    "        plt.title(\"Pareto Fronts for iteration \",count)\n",
    "        plt.show()\n",
    "        plt.savefig(\"./images/graph\"+str(count)+\".jpg\")\n",
    "        plt.close()\n",
    "        count+=1\n"
   ]
  },
  {
   "cell_type": "code",
   "execution_count": 22,
   "metadata": {},
   "outputs": [
    {
     "ename": "AttributeError",
     "evalue": "'int' object has no attribute 'pop'",
     "output_type": "error",
     "traceback": [
      "\u001b[0;31m---------------------------------------------------------------------------\u001b[0m",
      "\u001b[0;31mAttributeError\u001b[0m                            Traceback (most recent call last)",
      "\u001b[0;32m<ipython-input-22-eb69232d0525>\u001b[0m in \u001b[0;36m<module>\u001b[0;34m\u001b[0m\n\u001b[0;32m----> 1\u001b[0;31m \u001b[0msavePlots\u001b[0m\u001b[0;34m(\u001b[0m\u001b[0mpareto_list\u001b[0m\u001b[0;34m)\u001b[0m\u001b[0;34m\u001b[0m\u001b[0;34m\u001b[0m\u001b[0m\n\u001b[0m",
      "\u001b[0;32m<ipython-input-21-978b9ff6524f>\u001b[0m in \u001b[0;36msavePlots\u001b[0;34m(pareto_list)\u001b[0m\n\u001b[1;32m     23\u001b[0m         \u001b[0mplt\u001b[0m\u001b[0;34m.\u001b[0m\u001b[0mxlabel\u001b[0m\u001b[0;34m(\u001b[0m\u001b[0;34m\"EXPECTED RETURN\"\u001b[0m\u001b[0;34m)\u001b[0m\u001b[0;34m\u001b[0m\u001b[0;34m\u001b[0m\u001b[0m\n\u001b[1;32m     24\u001b[0m         \u001b[0mplt\u001b[0m\u001b[0;34m.\u001b[0m\u001b[0mylabel\u001b[0m\u001b[0;34m(\u001b[0m\u001b[0;34m\"RISK\"\u001b[0m\u001b[0;34m)\u001b[0m\u001b[0;34m\u001b[0m\u001b[0;34m\u001b[0m\u001b[0m\n\u001b[0;32m---> 25\u001b[0;31m         \u001b[0mplt\u001b[0m\u001b[0;34m.\u001b[0m\u001b[0mtitle\u001b[0m\u001b[0;34m(\u001b[0m\u001b[0;34m\"Pareto Fronts for iteration \"\u001b[0m\u001b[0;34m,\u001b[0m\u001b[0mcount\u001b[0m\u001b[0;34m)\u001b[0m\u001b[0;34m\u001b[0m\u001b[0;34m\u001b[0m\u001b[0m\n\u001b[0m\u001b[1;32m     26\u001b[0m         \u001b[0mplt\u001b[0m\u001b[0;34m.\u001b[0m\u001b[0mshow\u001b[0m\u001b[0;34m(\u001b[0m\u001b[0;34m)\u001b[0m\u001b[0;34m\u001b[0m\u001b[0;34m\u001b[0m\u001b[0m\n\u001b[1;32m     27\u001b[0m         \u001b[0mplt\u001b[0m\u001b[0;34m.\u001b[0m\u001b[0msavefig\u001b[0m\u001b[0;34m(\u001b[0m\u001b[0;34m\"./images/graph\"\u001b[0m\u001b[0;34m+\u001b[0m\u001b[0mstr\u001b[0m\u001b[0;34m(\u001b[0m\u001b[0mcount\u001b[0m\u001b[0;34m)\u001b[0m\u001b[0;34m+\u001b[0m\u001b[0;34m\".jpg\"\u001b[0m\u001b[0;34m)\u001b[0m\u001b[0;34m\u001b[0m\u001b[0;34m\u001b[0m\u001b[0m\n",
      "\u001b[0;32m~/anaconda3/lib/python3.7/site-packages/matplotlib/pyplot.py\u001b[0m in \u001b[0;36mtitle\u001b[0;34m(label, fontdict, loc, pad, **kwargs)\u001b[0m\n\u001b[1;32m   3061\u001b[0m \u001b[0;32mdef\u001b[0m \u001b[0mtitle\u001b[0m\u001b[0;34m(\u001b[0m\u001b[0mlabel\u001b[0m\u001b[0;34m,\u001b[0m \u001b[0mfontdict\u001b[0m\u001b[0;34m=\u001b[0m\u001b[0;32mNone\u001b[0m\u001b[0;34m,\u001b[0m \u001b[0mloc\u001b[0m\u001b[0;34m=\u001b[0m\u001b[0;34m'center'\u001b[0m\u001b[0;34m,\u001b[0m \u001b[0mpad\u001b[0m\u001b[0;34m=\u001b[0m\u001b[0;32mNone\u001b[0m\u001b[0;34m,\u001b[0m \u001b[0;34m**\u001b[0m\u001b[0mkwargs\u001b[0m\u001b[0;34m)\u001b[0m\u001b[0;34m:\u001b[0m\u001b[0;34m\u001b[0m\u001b[0;34m\u001b[0m\u001b[0m\n\u001b[1;32m   3062\u001b[0m     return gca().set_title(\n\u001b[0;32m-> 3063\u001b[0;31m         label, fontdict=fontdict, loc=loc, pad=pad, **kwargs)\n\u001b[0m\u001b[1;32m   3064\u001b[0m \u001b[0;34m\u001b[0m\u001b[0m\n\u001b[1;32m   3065\u001b[0m \u001b[0;34m\u001b[0m\u001b[0m\n",
      "\u001b[0;32m~/anaconda3/lib/python3.7/site-packages/matplotlib/axes/_axes.py\u001b[0m in \u001b[0;36mset_title\u001b[0;34m(self, label, fontdict, loc, pad, **kwargs)\u001b[0m\n\u001b[1;32m    210\u001b[0m         \u001b[0mtitle\u001b[0m\u001b[0;34m.\u001b[0m\u001b[0mupdate\u001b[0m\u001b[0;34m(\u001b[0m\u001b[0mdefault\u001b[0m\u001b[0;34m)\u001b[0m\u001b[0;34m\u001b[0m\u001b[0;34m\u001b[0m\u001b[0m\n\u001b[1;32m    211\u001b[0m         \u001b[0;32mif\u001b[0m \u001b[0mfontdict\u001b[0m \u001b[0;32mis\u001b[0m \u001b[0;32mnot\u001b[0m \u001b[0;32mNone\u001b[0m\u001b[0;34m:\u001b[0m\u001b[0;34m\u001b[0m\u001b[0;34m\u001b[0m\u001b[0m\n\u001b[0;32m--> 212\u001b[0;31m             \u001b[0mtitle\u001b[0m\u001b[0;34m.\u001b[0m\u001b[0mupdate\u001b[0m\u001b[0;34m(\u001b[0m\u001b[0mfontdict\u001b[0m\u001b[0;34m)\u001b[0m\u001b[0;34m\u001b[0m\u001b[0;34m\u001b[0m\u001b[0m\n\u001b[0m\u001b[1;32m    213\u001b[0m         \u001b[0mtitle\u001b[0m\u001b[0;34m.\u001b[0m\u001b[0mupdate\u001b[0m\u001b[0;34m(\u001b[0m\u001b[0mkwargs\u001b[0m\u001b[0;34m)\u001b[0m\u001b[0;34m\u001b[0m\u001b[0;34m\u001b[0m\u001b[0m\n\u001b[1;32m    214\u001b[0m         \u001b[0;32mreturn\u001b[0m \u001b[0mtitle\u001b[0m\u001b[0;34m\u001b[0m\u001b[0;34m\u001b[0m\u001b[0m\n",
      "\u001b[0;32m~/anaconda3/lib/python3.7/site-packages/matplotlib/text.py\u001b[0m in \u001b[0;36mupdate\u001b[0;34m(self, kwargs)\u001b[0m\n\u001b[1;32m    174\u001b[0m         \u001b[0;31m# Update bbox last, as it depends on font properties.\u001b[0m\u001b[0;34m\u001b[0m\u001b[0;34m\u001b[0m\u001b[0;34m\u001b[0m\u001b[0m\n\u001b[1;32m    175\u001b[0m         \u001b[0msentinel\u001b[0m \u001b[0;34m=\u001b[0m \u001b[0mobject\u001b[0m\u001b[0;34m(\u001b[0m\u001b[0;34m)\u001b[0m  \u001b[0;31m# bbox can be None, so use another sentinel.\u001b[0m\u001b[0;34m\u001b[0m\u001b[0;34m\u001b[0m\u001b[0m\n\u001b[0;32m--> 176\u001b[0;31m         \u001b[0mbbox\u001b[0m \u001b[0;34m=\u001b[0m \u001b[0mkwargs\u001b[0m\u001b[0;34m.\u001b[0m\u001b[0mpop\u001b[0m\u001b[0;34m(\u001b[0m\u001b[0;34m\"bbox\"\u001b[0m\u001b[0;34m,\u001b[0m \u001b[0msentinel\u001b[0m\u001b[0;34m)\u001b[0m\u001b[0;34m\u001b[0m\u001b[0;34m\u001b[0m\u001b[0m\n\u001b[0m\u001b[1;32m    177\u001b[0m         \u001b[0msuper\u001b[0m\u001b[0;34m(\u001b[0m\u001b[0;34m)\u001b[0m\u001b[0;34m.\u001b[0m\u001b[0mupdate\u001b[0m\u001b[0;34m(\u001b[0m\u001b[0mkwargs\u001b[0m\u001b[0;34m)\u001b[0m\u001b[0;34m\u001b[0m\u001b[0;34m\u001b[0m\u001b[0m\n\u001b[1;32m    178\u001b[0m         \u001b[0;32mif\u001b[0m \u001b[0mbbox\u001b[0m \u001b[0;32mis\u001b[0m \u001b[0;32mnot\u001b[0m \u001b[0msentinel\u001b[0m\u001b[0;34m:\u001b[0m\u001b[0;34m\u001b[0m\u001b[0;34m\u001b[0m\u001b[0m\n",
      "\u001b[0;31mAttributeError\u001b[0m: 'int' object has no attribute 'pop'"
     ]
    },
    {
     "data": {
      "image/png": "[encoded data removed]",
      "text/plain": [
       "<Figure size 432x288 with 1 Axes>"
      ]
     },
     "metadata": {
      "needs_background": "light"
     },
     "output_type": "display_data"
    }
   ],
   "source": [
    "savePlots(pareto_list)\n"
   ]
  },
  {
   "cell_type": "code",
   "execution_count": 18,
   "metadata": {},
   "outputs": [
    {
     "name": "stdout",
     "output_type": "stream",
     "text": [
      "0\n"
     ]
    }
   ],
   "source": [
    "f = -1\n",
    "for i in range(6):\n",
    "    if f==1:\n",
    "        continue\n",
    "    \n",
    "    print(i)"
   ]
  },
  {
   "cell_type": "code",
   "execution_count": null,
   "metadata": {},
   "outputs": [],
   "source": []
  }
 ],
 "metadata": {
  "kernelspec": {
   "display_name": "Python 3",
   "language": "python",
   "name": "python3"
  },
  "language_info": {
   "codemirror_mode": {
    "name": "ipython",
    "version": 3
   },
   "file_extension": ".py",
   "mimetype": "text/x-python",
   "name": "python",
   "nbconvert_exporter": "python",
   "pygments_lexer": "ipython3",
   "version": "3.7.7"
  }
 },
 "nbformat": 4,
 "nbformat_minor": 4
}
