{
 "cells": [
  {
   "cell_type": "markdown",
   "metadata": {},
   "source": [
    "## NSGA II with constraint\n",
    "### Shivji Bhagat - 16110149"
   ]
  },
  {
   "cell_type": "code",
   "execution_count": 1,
   "metadata": {},
   "outputs": [],
   "source": [
    "import numpy as np\n",
    "import matplotlib.pyplot as plt"
   ]
  },
  {
   "cell_type": "code",
   "execution_count": 2,
   "metadata": {},
   "outputs": [],
   "source": [
    "###utility functions#####\n",
    "#function 1\n",
    "def lateralSA(r,h, pi = 3.143):\n",
    "    l = (r**2+h**2)**0.5\n",
    "    return pi*r*l\n",
    "\n",
    "#funciton 2\n",
    "def totalSA(r,h, pi = 3.143):\n",
    "    return lateralSA(r,h) + pi*r**2\n",
    "\n",
    "#constraint_function\n",
    "def volume(r, h, pi = 3.143):\n",
    "    return (1/3)*pi*h*r**2\n",
    "\n",
    "def flip(s):\n",
    "    return '1' if s=='0' else '0'\n",
    "\n",
    "def applyBounds(x, lower, upper):\n",
    "    #x (float)\n",
    "    y = max(x,lower)\n",
    "    y = min(x,upper)\n",
    "    y = np.around(y,2)\n",
    "    return y\n",
    "def dominates(r,h, pareto):\n",
    "    #checks weather the soln [r,h] dominates any of the soln in the pareto front \"pareto\"\n",
    "    for i,j in pareto:\n",
    "        if lateralSA(r,h)<lateralSA(i,j) and totalSA(r,h)<totalSA(i,j):\n",
    "            return True\n",
    "    return False\n",
    "\n",
    "def nonDominated(r,h, pareto):\n",
    "    for i,j in pareto:\n",
    "        if lateralSA(i,j)>lateralSA(r,h) and totalSA(i,j)>totalSA(r,h):\n",
    "            return False\n",
    "    return True"
   ]
  },
  {
   "cell_type": "code",
   "execution_count": null,
   "metadata": {},
   "outputs": [],
   "source": []
  },
  {
   "cell_type": "code",
   "execution_count": 13,
   "metadata": {},
   "outputs": [],
   "source": [
    "class nsga2:\n",
    "    def __init__(self, nvar = 2, npop = 6, niter = 50, rmin = 0, rmax = 10, hmin = 0, hmax = 20, constr = 200):\n",
    "        self.nvar = nvar\n",
    "        self.npop = npop\n",
    "        self.niter = niter\n",
    "        \n",
    "        self.rmin = rmin\n",
    "        self.rmax = rmax\n",
    "        self.hmin = hmin\n",
    "        self.hmax = hmax\n",
    "        self.constr = constr\n",
    "        \n",
    "        self.rank = {}\n",
    "        self.population = None\n",
    "        self.fronts = {}\n",
    "        \n",
    "    def cross(self, p1,p2, alpha = 0.5):\n",
    "        #crossover parents p1, p2 at uniformly random alpha % points where p1, p2 are floating points\n",
    "        \n",
    "        p1_ = bin(int(p1*100))[2:]\n",
    "        p2_ = bin(int(p2*100))[2:]\n",
    "        \n",
    "        l1, l2 = len(p1_), len(p2_)\n",
    "        if l1!=l2:\n",
    "            if l1>l2:\n",
    "                p2_ = '0'*(l1-l2)+p2_\n",
    "            else:\n",
    "                p1_ = '0'*(l2-l1)+p1_\n",
    "        l = len(p1_)\n",
    "        crossGenes = set(np.random.choice(range(l), int(alpha*l), replace = 0))\n",
    "        c1 = ''\n",
    "        for i,val in enumerate(p1_):\n",
    "            if i in crossGenes:\n",
    "                c1 = c1 + p2_[i]\n",
    "            else:\n",
    "                c1 = c1 + p1_[i]\n",
    "                \n",
    "        crossGenes = set(np.random.choice(range(l), int(alpha*l), replace = 0))\n",
    "        c2 = ''\n",
    "        for i,val in enumerate(p2_):\n",
    "            if i in crossGenes:\n",
    "                c2 = c2 + p1_[i]\n",
    "            else:\n",
    "                c2 = c2 + p2_[i]\n",
    "        c1, c2  = int(c1, 2)/100, int(c2, 2)/100\n",
    "        return [c1, c2]\n",
    "        \n",
    "    def crossover(self, p1_, p2_, alpha = 0.5):\n",
    "        #uniform crossover\n",
    "        p1, p2 = self.population[p1_], self.population[p2_]\n",
    "        r1, h1 = p1[0], p1[1]\n",
    "        r2, h2 = p2[0], p2[1]\n",
    "        \n",
    "        r3, r4 = [applyBounds(r, self.rmin, self.rmax) for r in self.cross(r1, r2)]\n",
    "        h3, h4 = [applyBounds(h, self.hmin, self.hmax) for h in self.cross(h1, h2)]\n",
    "        \n",
    "        c1 = [r3, h3]\n",
    "        c2 = [r4, h4]\n",
    "        \n",
    "        return [c1, c2]\n",
    "    \n",
    "    def mutation(self, x, beta = 0.1):\n",
    "        # select a random bit and flip at a probability of beta, x - 2D child array i.e. [r, h] \n",
    "        # x - array of two floats\n",
    "\n",
    "        r = list(bin(int(x[0]*100))[2:])            #getting binary of r-value, x100 to get the int from float \n",
    "        h = list(bin(int(x[1]*100))[2:])            #getting binary of h-value \n",
    "\n",
    "        r1 = []\n",
    "        h1 = []\n",
    "\n",
    "        for idx, val in enumerate(r):\n",
    "            if np.random.random()<=beta:\n",
    "                r1.append(flip(val))\n",
    "            else:\n",
    "                r1.append(val)\n",
    "\n",
    "        for idx, val in enumerate(h):\n",
    "            if np.random.random()<=beta:\n",
    "                h1.append(flip(val))\n",
    "            else:\n",
    "                h1.append(val)\n",
    "        r = ''.join(r1)\n",
    "        h = ''.join(h1)\n",
    "\n",
    "        r = int(r,2)/100                      #convert back to float as only 2 decimal points allowed\n",
    "        h = int(h,2)/100\n",
    "\n",
    "        r = applyBounds(r, self.rmin, self.rmax)\n",
    "        h = applyBounds(h, self.hmin, self.hmax)\n",
    "        return [r, h]\n",
    "\n",
    "    def tournamentSelection(self):\n",
    "        #rank = self.nonDominatedSorting()\n",
    "        p1_ = np.random.randint(0, self.npop)\n",
    "        p2_ = np.random.randint(0, self.npop)\n",
    "        \n",
    "        if self.rank[p1_]<self.rank[p2_]:\n",
    "            return p1_\n",
    "        return p2_\n",
    "\n",
    "    def nonDominatedSorting(self, children):\n",
    "        self.fronts = {}\n",
    "        front = 1\n",
    "        tmp = np.copy(np.array(children)).tolist()\n",
    "        visited = {}\n",
    "        \n",
    "        count = 0\n",
    "        while len(tmp)!=0:\n",
    "            pareto = [tmp[0]]\n",
    "            ptr = {0}\n",
    "            for idx, val in enumerate(tmp):\n",
    "                r,h = val\n",
    "                flag = 0\n",
    "                for i,j in pareto:\n",
    "                    if lateralSA(r,h)>lateralSA(i,j) and totalSA(r,h)>totalSA(i,j):\n",
    "                        flag = 1\n",
    "                        break\n",
    "                if idx==0:\n",
    "                    continue\n",
    "                elif (lateralSA(r,h)<np.array([lateralSA(i,j) for i,j in pareto])).all() and (totalSA(r,h)<np.array([totalSA(i,j) for i,j in pareto])).all():\n",
    "                    pareto = [[r,h]]\n",
    "                    ptr = {idx}\n",
    "                \n",
    "                elif flag==1:\n",
    "                    continue\n",
    "                elif dominates(r,h,pareto):\n",
    "                    ptr1 = set()\n",
    "                    for idx1, val1 in enumerate(pareto):\n",
    "                        if lateralSA(r,h)<lateralSA(val1[0],val1[1]) and totalSA(r,h)<totalSA(val1[0],val1[1]):\n",
    "                            ptr1.add(idx1) #to remove from pareto\n",
    "                            try:\n",
    "                                ptr.remove(tmp.index(val1))\n",
    "                            except:\n",
    "                                pass\n",
    "                    paretoTmp = []\n",
    "                    for i_, j_ in enumerate(pareto):\n",
    "                        if i_ not in ptr1:\n",
    "                            paretoTmp.append(j_)\n",
    "                    pareto = paretoTmp\n",
    "                    ptr.add(idx)\n",
    "                    pareto.append(val)\n",
    "                elif nonDominated(r,h, pareto):\n",
    "                    pareto.append([r,h])\n",
    "                    ptr.add(idx)\n",
    "                else:\n",
    "                    continue\n",
    "                \n",
    "            self.fronts[front] = pareto\n",
    "            if count>=self.npop:\n",
    "                break\n",
    "            count+=len(pareto)\n",
    "            front+=1\n",
    "            tmp1 = [val for (i,val) in enumerate(tmp) if i not in ptr]\n",
    "            tmp = np.copy(tmp1).tolist()\n",
    "            del(tmp1)\n",
    "        return self.fronts\n",
    "\n",
    "    def crowdingDistSorting(self, children, population):\n",
    "        func = lambda x:[lateralSA(x[0],x[1]), totalSA(x[0],x[1])]\n",
    "        costValArray = np.array([func(x) for x in population])\n",
    "        \n",
    "        Smax, Tmax = np.max(costValArray, axis = 0)  #surfaceArea, TotalArea\n",
    "        Smin, Tmin = np.min(costValArray, axis = 0)\n",
    "        \n",
    "        tmp = np.copy(children)\n",
    "        tmp = sorted(children, key=lambda x:lateralSA(x[0], x[1]))\n",
    "        \n",
    "        tmpCrowd = []\n",
    "        l = len(tmp)-1\n",
    "        for idx, val in enumerate(tmp):\n",
    "            if idx in {0,l}:\n",
    "                tmpCrowd.append([val[0], val[1], float('inf')])\n",
    "            else:\n",
    "                \n",
    "                dist = abs(lateralSA(tmp[idx+1][0], tmp[idx+1][1])-\n",
    "                        lateralSA(tmp[idx-1][0], tmp[idx-1][1]))/(Smax-Smin)+abs(\n",
    "                        totalSA(tmp[idx+1][0], tmp[idx+1][1]) - \n",
    "                        totalSA(tmp[idx-1][0], tmp[idx-1][1]))/(Tmax-Tmin)\n",
    "                \n",
    "                tmpCrowd.append([val[0], val[1], dist])\n",
    "        \n",
    "        newChildren = sorted(tmpCrowd, key = lambda x:x[2], reverse=True)\n",
    "        newChildren = [[x[0],x[1]] for x in newChildren]\n",
    "        return np.array(newChildren)\n",
    "    def nsga_2(self):\n",
    "        population_r = np.random.uniform(self.rmin,self.rmax,(self.npop,1))\n",
    "        population_h = np.random.uniform(self.hmin,self.hmax,(self.npop,1))\n",
    "\n",
    "        self.population = np.around(np.append(population_r, population_h, axis=1),2) #rounding to 2 decimals\n",
    "        self.rank = {}\n",
    "\n",
    "        #initial ranking\n",
    "        fronts_ = self.nonDominatedSorting(self.population)\n",
    "        for i in fronts_:\n",
    "            fronts_[i] = self.crowdingDistSorting(fronts_[i], self.population)\n",
    "        count=1\n",
    "        for i in fronts_:\n",
    "            for j in fronts_[i]:\n",
    "                self.rank[self.population.tolist().index(j.tolist())] = count\n",
    "                count+=1\n",
    "\n",
    "        for i in range(self.niter):\n",
    "            children = list(self.population)\n",
    "\n",
    "            for j in range(int(self.npop/2)):\n",
    "                p1_ = self.tournamentSelection()\n",
    "                p2_ = self.tournamentSelection()\n",
    "                c1,c2 = self.crossover(p1_, p2_)\n",
    "                c1 = self.mutation(c1)\n",
    "                c2 = self.mutation(c2)\n",
    "                children.append(c1)\n",
    "                children.append(c2)\n",
    "            tmpChildren = []\n",
    "            for r,h in children:\n",
    "                #check for constraint function limit\n",
    "                if volume(r, h)<=self.constr:\n",
    "                    child = [self.rmax, self.hmax]\n",
    "                    tmpChildren.append(child)\n",
    "                else:\n",
    "                    tmpChildren.append([r,h])\n",
    "            children = tmpChildren\n",
    "            self.fronts = self.nonDominatedSorting(children)\n",
    "            \n",
    "            nextGen = []\n",
    "            for i in self.fronts:\n",
    "                crowdsorted = self.crowdingDistSorting(self.fronts[i], population = children)\n",
    "                self.fronts[i] = crowdsorted\n",
    "                if len(nextGen)+len(self.fronts[i])>self.npop:\n",
    "                    nextGen = nextGen+crowdsorted[:self.npop-len(nextGen)].tolist()\n",
    "                    break\n",
    "                else:\n",
    "                    nextGen = nextGen+self.fronts[i].tolist()\n",
    "            \n",
    "            self.population = nextGen\n",
    "            #doing ranking\n",
    "            count = 1\n",
    "            for i in self.fronts:\n",
    "                for j in self.fronts[i]:\n",
    "                    if list(j) in self.population:\n",
    "                        self.rank[list(self.population).index(list(j))] = count\n",
    "                        count+=1\n",
    "                    else:\n",
    "                        pass\n"
   ]
  },
  {
   "cell_type": "code",
   "execution_count": 14,
   "metadata": {},
   "outputs": [],
   "source": [
    "a = nsga2(niter=100, npop = 20)"
   ]
  },
  {
   "cell_type": "code",
   "execution_count": 15,
   "metadata": {},
   "outputs": [],
   "source": [
    "a.nsga_2()"
   ]
  },
  {
   "cell_type": "code",
   "execution_count": 16,
   "metadata": {},
   "outputs": [
    {
     "data": {
      "text/plain": [
       "{1: array([[4.99, 7.69],\n",
       "        [4.4 , 9.88],\n",
       "        [4.56, 9.2 ],\n",
       "        [4.66, 8.8 ],\n",
       "        [4.42, 9.78],\n",
       "        [4.74, 8.52],\n",
       "        [4.88, 8.02],\n",
       "        [4.8 , 8.32],\n",
       "        [4.91, 7.92],\n",
       "        [4.98, 7.72],\n",
       "        [4.8 , 8.32],\n",
       "        [4.75, 8.49],\n",
       "        [4.4 , 9.88],\n",
       "        [4.9 , 7.96],\n",
       "        [4.88, 8.02],\n",
       "        [4.9 , 7.96],\n",
       "        [4.99, 7.69],\n",
       "        [4.98, 7.72],\n",
       "        [4.75, 8.49],\n",
       "        [4.9 , 7.96],\n",
       "        [4.9 , 7.96]]),\n",
       " 2: [[4.99, 7.72], [4.8, 8.36]]}"
      ]
     },
     "execution_count": 16,
     "metadata": {},
     "output_type": "execute_result"
    }
   ],
   "source": [
    "a.fronts"
   ]
  },
  {
   "cell_type": "code",
   "execution_count": 17,
   "metadata": {},
   "outputs": [
    {
     "data": {
      "text/plain": [
       "[[4.99, 7.69],\n",
       " [4.4, 9.88],\n",
       " [4.56, 9.2],\n",
       " [4.66, 8.8],\n",
       " [4.42, 9.78],\n",
       " [4.74, 8.52],\n",
       " [4.88, 8.02],\n",
       " [4.8, 8.32],\n",
       " [4.91, 7.92],\n",
       " [4.98, 7.72],\n",
       " [4.8, 8.32],\n",
       " [4.75, 8.49],\n",
       " [4.4, 9.88],\n",
       " [4.9, 7.96],\n",
       " [4.88, 8.02],\n",
       " [4.9, 7.96],\n",
       " [4.99, 7.69],\n",
       " [4.98, 7.72],\n",
       " [4.75, 8.49],\n",
       " [4.9, 7.96]]"
      ]
     },
     "execution_count": 17,
     "metadata": {},
     "output_type": "execute_result"
    }
   ],
   "source": [
    "a.population"
   ]
  },
  {
   "cell_type": "code",
   "execution_count": 18,
   "metadata": {},
   "outputs": [
    {
     "name": "stdout",
     "output_type": "stream",
     "text": [
      "143.7732630898082 222.0342773898082 200.60906665566665\n",
      "149.56930327276524 210.41778327276523 200.39432746666668\n",
      "147.1630369056646 212.51732170566459 200.41980671999994\n",
      "145.8441189164138 214.0962497164138 200.20625034666665\n",
      "149.09539730786744 210.49830250786744 200.17347095199995\n",
      "145.2503070008516 215.86597380085158 200.54849371199998\n",
      "143.99185104250682 218.8405102425068 200.09541559466663\n",
      "144.90987846218596 217.32459846218595 200.83015679999997\n",
      "143.80435122414252 219.5761095241425 200.03744191199996\n",
      "143.79436247619148 221.7420196761915 200.585304528\n",
      "144.90987846218596 217.32459846218595 200.83015679999997\n",
      "145.23835519913277 216.15229269913277 200.68644312499998\n",
      "149.56930327276524 210.41778327276523 200.39432746666668\n",
      "143.95461934411165 219.41804934411167 200.2296342666667\n",
      "143.99185104250682 218.8405102425068 200.09541559466663\n",
      "143.95461934411165 219.41804934411167 200.2296342666667\n",
      "143.7732630898082 222.0342773898082 200.60906665566665\n",
      "143.79436247619148 221.7420196761915 200.585304528\n",
      "145.23835519913277 216.15229269913277 200.68644312499998\n",
      "143.95461934411165 219.41804934411167 200.2296342666667\n"
     ]
    }
   ],
   "source": [
    "for x in a.population:\n",
    "    r,h = x[0],x[1]\n",
    "    print(lateralSA(r,h), totalSA(r,h), volume(r,h))"
   ]
  },
  {
   "cell_type": "code",
   "execution_count": 9,
   "metadata": {},
   "outputs": [],
   "source": [
    "r = np.array([[10,4.99,6.09,6.91,5.21,7.9,9.84,4.96,6.24,6.90,5.20,7.89]]).T\n",
    "h = np.array([[19.61,5.10,0.79,10.62,18.87,8.98,0.78,0.60,19.66,15.09,18.86,8.97]]).T\n",
    "children = np.append(r,h,axis=1)"
   ]
  },
  {
   "cell_type": "code",
   "execution_count": 10,
   "metadata": {},
   "outputs": [
    {
     "data": {
      "text/plain": [
       "(5.230423447639185, 10.460689747639186, 0.017434221)"
      ]
     },
     "execution_count": 10,
     "metadata": {},
     "output_type": "execute_result"
    }
   ],
   "source": [
    "lateralSA(1.29, 0.01), totalSA(1.29,0.01), volume(1.29,0.01)"
   ]
  },
  {
   "cell_type": "code",
   "execution_count": 11,
   "metadata": {},
   "outputs": [
    {
     "data": {
      "text/plain": [
       "2095.333333333333"
      ]
     },
     "execution_count": 11,
     "metadata": {},
     "output_type": "execute_result"
    }
   ],
   "source": [
    "volume(a.rmax, a.hmax)"
   ]
  },
  {
   "cell_type": "code",
   "execution_count": 12,
   "metadata": {},
   "outputs": [
    {
     "name": "stdout",
     "output_type": "stream",
     "text": [
      "143.2866573788394 226.6468748788394 200.064522\n"
     ]
    }
   ],
   "source": [
    "r,h = 5.15, 7.2\n",
    "print(lateralSA(r,h), totalSA(r,h), volume(r,h))"
   ]
  },
  {
   "cell_type": "code",
   "execution_count": null,
   "metadata": {},
   "outputs": [],
   "source": []
  }
 ],
 "metadata": {
  "kernelspec": {
   "display_name": "Python 3",
   "language": "python",
   "name": "python3"
  },
  "language_info": {
   "codemirror_mode": {
    "name": "ipython",
    "version": 3
   },
   "file_extension": ".py",
   "mimetype": "text/x-python",
   "name": "python",
   "nbconvert_exporter": "python",
   "pygments_lexer": "ipython3",
   "version": "3.7.7"
  }
 },
 "nbformat": 4,
 "nbformat_minor": 2
}
